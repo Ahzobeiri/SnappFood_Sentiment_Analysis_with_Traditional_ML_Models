{
  "nbformat": 4,
  "nbformat_minor": 0,
  "metadata": {
    "colab": {
      "provenance": [],
      "collapsed_sections": [
        "tFPyLOQMj5NB",
        "2I6PIhc-Pxez"
      ]
    },
    "kernelspec": {
      "name": "python3",
      "display_name": "Python 3"
    },
    "language_info": {
      "name": "python"
    }
  },
  "cells": [
    {
      "cell_type": "markdown",
      "metadata": {
        "id": "tFPyLOQMj5NB"
      },
      "source": [
        "# Load Data"
      ]
    },
    {
      "cell_type": "code",
      "execution_count": null,
      "metadata": {
        "colab": {
          "base_uri": "https://localhost:8080/"
        },
        "id": "ImxFOAOZjpLu",
        "outputId": "06bba741-5174-49c1-fb6b-293e3e78d1f2"
      },
      "outputs": [
        {
          "output_type": "stream",
          "name": "stderr",
          "text": [
            "[nltk_data] Downloading package punkt to /root/nltk_data...\n",
            "[nltk_data]   Package punkt is already up-to-date!\n"
          ]
        }
      ],
      "source": [
        "import numpy as np\n",
        "import os\n",
        "from gensim.models import KeyedVectors\n",
        "from sklearn.model_selection import train_test_split\n",
        "import pandas as pd\n",
        "import torch\n",
        "import torch.nn as nn\n",
        "import torch.optim as optim\n",
        "from sklearn.metrics import accuracy_score, confusion_matrix\n",
        "from sklearn.metrics import precision_recall_fscore_support\n",
        "import seaborn as sns\n",
        "import matplotlib.pyplot as plt\n",
        "import nltk\n",
        "nltk.download('punkt')\n",
        "from nltk.tokenize import word_tokenize\n",
        "import sklearn"
      ]
    },
    {
      "cell_type": "markdown",
      "source": [
        "**Load train and test data**"
      ],
      "metadata": {
        "id": "86jWs8w-Gq9I"
      }
    },
    {
      "cell_type": "code",
      "execution_count": null,
      "metadata": {
        "id": "zwANIcQEjtXX"
      },
      "outputs": [],
      "source": [
        "# Load the train.csv file into a DataFrame name train_data_set\n",
        "train_data_set = pd.read_csv('train.csv')\n",
        "\n",
        "# Load the test.csv file into a DataFrame name test_data_set\n",
        "test_data_set = pd.read_csv('test.csv')"
      ]
    },
    {
      "cell_type": "markdown",
      "source": [
        "**Load pre-trained Word2Vec feature vectores**"
      ],
      "metadata": {
        "id": "o5wObi_ZGyec"
      }
    },
    {
      "cell_type": "code",
      "source": [
        "# Load the pre-trained Word2Vec vectors\n",
        "word2vec_model_path = 'word2vec.model-skipgram-size=200-window=5.bin'\n",
        "word_vectors = KeyedVectors.load_word2vec_format(word2vec_model_path, binary=True)\n",
        "\n",
        "# Accessing the vector for a specific word\n",
        "vector_for_word = word_vectors['خوب']\n",
        "\n",
        "# Dimensionality of the vectors\n",
        "vector_dimensionality = word_vectors.vector_size\n",
        "\n",
        "print(f\"Vector for 'خوب': {vector_for_word}\")\n",
        "print(f\"Dimensionality of vectors: {vector_dimensionality}\")"
      ],
      "metadata": {
        "colab": {
          "base_uri": "https://localhost:8080/"
        },
        "id": "Cch_U4xqGyCz",
        "outputId": "28249bba-dde9-4e65-db57-8dc011ac4672"
      },
      "execution_count": null,
      "outputs": [
        {
          "output_type": "stream",
          "name": "stdout",
          "text": [
            "Vector for 'خوب': [ 0.05189532 -0.04367696 -0.25825545 -0.31841868 -0.3135765  -0.20935565\n",
            " -0.07008067  0.03917047 -0.03930867  0.24164495 -0.02684353 -0.14871739\n",
            "  0.32636547  0.04250283 -0.20503595  0.31462032 -0.35309905 -0.1457835\n",
            "  0.19296333 -0.0202606  -0.26901004  0.09482329 -0.26851743 -0.2677326\n",
            "  0.41082373 -0.46436322  0.05367912  0.20031756 -0.14810108 -0.46825427\n",
            " -0.13223809  0.35961193  0.1269391   0.2910871  -0.26136425 -0.23105039\n",
            " -0.1675703  -0.06026964 -0.13725972 -0.10071518  0.16619743 -0.54662055\n",
            " -0.0567041  -0.08579624 -0.08841149  0.41507357  0.12886804  0.07238836\n",
            " -0.02152005  0.14836814  0.26444688 -0.08293931 -0.3177732  -0.12926306\n",
            "  0.29344997  0.00163315 -0.13231517  0.34714785 -0.2602429   0.37017608\n",
            "  0.00499069  0.19122368 -0.14609908 -0.26162016  0.07910927 -0.16766837\n",
            "  0.21102104  0.5089599  -0.28373197 -0.12223705 -0.22153029  0.09425112\n",
            "  0.20062323 -0.24341087  0.10108037 -0.08430991  0.34745726  0.01433752\n",
            "  0.31164107  0.19027296  0.23325135  0.00522904  0.2352426   0.44550613\n",
            " -0.21195036 -0.1716905   0.05487087  0.29035464  0.22801632  0.16588609\n",
            " -0.06145651 -0.30651978  0.3503457  -0.86422783  0.8093037   0.27544075\n",
            "  0.4522268  -0.2201325  -0.17166153  0.10229985 -0.02906385  0.5167862\n",
            "  0.19460271 -0.139938   -0.0919805  -0.04456349 -0.6102952  -0.27046442\n",
            "  0.27767897  0.19460689 -0.05441948  0.1193859   0.31985012  0.01375233\n",
            "  0.13576281  0.10210003 -0.0527656  -0.05931158 -0.00516086 -0.03259448\n",
            " -0.04601454 -0.53941804  0.27340722 -0.07041435 -0.02367074  0.56303257\n",
            "  0.19345543 -0.3513285  -0.49147457  0.08235536  0.0317466   0.05651502\n",
            " -0.05117037 -0.05118    -0.10056785  0.29443917 -0.12237573 -0.1266364\n",
            "  0.12367909  0.23287413  0.08996662 -0.18748477  0.1763981   0.25652558\n",
            "  0.15898493  0.03175404 -0.241492   -0.04023447 -0.17877372  0.21592101\n",
            " -0.08707617  0.37354857 -0.01423106 -0.39136174  0.1588209  -0.11777843\n",
            "  0.02466578  0.27102795 -0.2381477   0.27989936  0.06313731  0.24443759\n",
            " -0.23949178 -0.21814395  0.39512026  0.04069491  0.13780001 -0.00117531\n",
            " -0.14573322  0.00615212  0.41556492 -0.01757596  0.22858775 -0.07556059\n",
            " -0.33743662 -0.19932152 -0.33135656  0.03576714 -0.47114584  0.10586626\n",
            " -0.04773066  0.27934    -0.32347825  0.05902972 -0.06516091  0.24042085\n",
            " -0.32901305 -0.535946   -0.29290918  0.04448208  0.10717997 -0.06238848\n",
            " -0.07691038  0.09859011 -0.03934997  0.5286141   0.06920026 -0.1571408\n",
            " -0.22640644  0.11724861]\n",
            "Dimensionality of vectors: 200\n"
          ]
        }
      ]
    },
    {
      "cell_type": "markdown",
      "metadata": {
        "id": "2I6PIhc-Pxez"
      },
      "source": [
        "<div style=\"border-bottom: 3px solid black; margin-bottom:5px\"></div>\n",
        "<div style=\"border-bottom: 3px solid black\"></div>\n",
        "\n",
        "# &mdash; Pre-process the Data\n",
        "\n",
        "* a) Tokenize sentences into the words (for both train and test)\n",
        "* b) Craete a list of **Average** Word2Vec vectors for each tokenized comment based on individual words Word2Vec feature (for both train and test)\n",
        "* c) Craete a list of **Sum** Word2Vec vectors for each tokenized comment based on individual words Word2Vec feature (for both train and test)"
      ]
    },
    {
      "cell_type": "markdown",
      "metadata": {
        "id": "vrSjGtLALLBy"
      },
      "source": [
        "**a) Tokenize sentences into the words**"
      ]
    },
    {
      "cell_type": "markdown",
      "source": [
        "Train"
      ],
      "metadata": {
        "id": "WCIbWZ1b8Hwz"
      }
    },
    {
      "cell_type": "code",
      "execution_count": null,
      "metadata": {
        "colab": {
          "base_uri": "https://localhost:8080/"
        },
        "id": "TRW4u1gJjyMO",
        "outputId": "b4200e1d-4273-49cd-b1c1-0ed2a67da759"
      },
      "outputs": [
        {
          "output_type": "stream",
          "name": "stdout",
          "text": [
            "[['واقعا', 'حیف', 'وقت', 'که', 'بنویسم', 'سرویس', 'دهیتون', 'شده', 'افتضاح'], ['قرار', 'بود', '۱', 'ساعته', 'برسه', 'ولی', 'نیم', 'ساعت', 'زودتر', 'از', 'موقع', 'رسید،', 'شما', 'ببین', 'چقدرررررررررررر', 'پلاک', 'خفنههههه،', 'من', 'سالهاست', 'مشتریشونم', 'و', 'سالهاست', 'مزه', 'بهشت', 'میده', 'غذاشون'], ['قیمت', 'این', 'مدل', 'اصلا', 'با', 'کیفیتش', 'سازگاری', 'نداره،', 'فقط', 'ظاهر', 'فریبنده', 'داره،', 'پرش', 'میکنن', 'کالباس', 'و', 'قارچ'], ['عالللی', 'بود', 'همه', 'چه', 'درست', 'و', 'به', 'اندازه', 'و', 'کیفیت', 'خوب،', 'امیداورم', 'همیشه', 'کیفیتتون', 'خوب', 'باشه', 'ما', 'مشتری', 'همیشگی', 'بشیم'], ['شیرینی', 'وانیلی', 'فقط', 'یک', 'مدل', 'بود', '.']]\n",
            "63700\n"
          ]
        }
      ],
      "source": [
        "# Tokenize sentences into words (train)\n",
        "from nltk.tokenize import word_tokenize\n",
        "\n",
        "# Tokenize the sentences and create a list of lists containing tokenized words (train)\n",
        "tokenized_words_train = []\n",
        "\n",
        "for comment in train_data_set['comment']:\n",
        "    tokens = word_tokenize(comment)\n",
        "    tokenized_words_train.append(tokens)\n",
        "print(tokenized_words_train[:5])\n",
        "\n",
        "print(len(tokenized_words_train))"
      ]
    },
    {
      "cell_type": "markdown",
      "metadata": {
        "id": "pF5kyMojN9ih"
      },
      "source": [
        "Test"
      ]
    },
    {
      "cell_type": "code",
      "execution_count": null,
      "metadata": {
        "id": "n4Pum90yOR8n",
        "colab": {
          "base_uri": "https://localhost:8080/"
        },
        "outputId": "813ce6c7-00d4-46ed-df9c-d17f99cdeb01"
      },
      "outputs": [
        {
          "output_type": "stream",
          "name": "stdout",
          "text": [
            "[['غذا', 'به', 'موقع', 'رسید', 'و', 'برخورد', 'پیک', 'خوب', 'بود'], ['نون', 'فکر', 'کنم', 'مال', 'چهار', 'روز', 'قبل', 'بود', 'کلا', 'نمیشد', 'خورد', 'کراکف', 'رو', 'هم', 'گریل', 'رو', 'بهش', 'نشون', 'داده', 'بودن', 'اصلا', 'از', 'رستوران', 'انتظارم', 'چیز', 'دیگه\\u200cای', 'بود', 'دفعه', 'اولم', 'نبود', 'از', 'این', 'رستوران', 'غذا', 'سفارش', 'دادم', 'اما', 'این', 'بار', 'میتونم', 'بگم', 'افتضاح', 'بود'], ['درب', 'قهوه', 'شکسته', 'بود'], ['قهوه', 'نی', 'نداشت', '.', 'یکی', 'از', 'سفارش\\u200cها', 'عوض', 'شده', 'بود', '.', 'بقیه', 'خوب', 'بود', '.'], ['خیلی', 'پر', 'پنیر', 'بود', 'و', 'اصلا', 'اصلا', 'تند', 'نبود', 'متاسفانه']]\n",
            "6259\n"
          ]
        }
      ],
      "source": [
        "# Tokenize sentences into words (test)\n",
        "from nltk.tokenize import word_tokenize\n",
        "\n",
        "# Tokenize the sentences and create a list of lists containing tokenized words (test)\n",
        "tokenized_words_test = []\n",
        "\n",
        "for comment in test_data_set['comment']:\n",
        "    tokens = word_tokenize(comment)\n",
        "    tokenized_words_test.append(tokens)\n",
        "print(tokenized_words_test[:5])\n",
        "\n",
        "print(len(tokenized_words_test))"
      ]
    },
    {
      "cell_type": "markdown",
      "metadata": {
        "id": "EjL812SNgqiQ"
      },
      "source": [
        "**b) Craete a list of Average Word2Vec vectors for each tokenized comment based on individual words Word2Vec feature**"
      ]
    },
    {
      "cell_type": "markdown",
      "source": [
        "Train"
      ],
      "metadata": {
        "id": "o6p9Fl3JhBBw"
      }
    },
    {
      "cell_type": "code",
      "source": [
        "# Create a list of average vectors for each comment (train)\n",
        "average_Word2Vec_vectors_train = []\n",
        "\n",
        "for comment in tokenized_words_train:\n",
        "    vectors = [word_vectors[word] if word in word_vectors else np.zeros(word_vectors.vector_size) for word in comment]\n",
        "\n",
        "    if not vectors:\n",
        "        # If there are no valid vectors for a comment, add a zero vector in the same dimension\n",
        "        average_Word2Vec_vectors_train.append(np.zeros(word_vectors.vector_size))\n",
        "    else:\n",
        "        average_vector = np.mean(vectors, axis=0)\n",
        "        average_Word2Vec_vectors_train.append(average_vector)\n",
        "\n",
        "# Convert the list of average vectors to a numpy array\n",
        "average_Word2Vec_train = np.array(average_Word2Vec_vectors_train)\n",
        "\n",
        "print(average_Word2Vec_train.shape)\n",
        "print(average_Word2Vec_train[0])"
      ],
      "metadata": {
        "colab": {
          "base_uri": "https://localhost:8080/"
        },
        "id": "cHud6A32RNlq",
        "outputId": "dc05bca3-a6e7-4d02-a10d-f9c951a82bbc"
      },
      "execution_count": null,
      "outputs": [
        {
          "output_type": "stream",
          "name": "stdout",
          "text": [
            "(63700, 200)\n",
            "[-1.65902043e-01 -1.26873209e-02 -2.96080019e-01 -2.12186100e-01\n",
            " -2.49442192e-01 -2.33756869e-01 -4.61200575e-02 -8.35592418e-02\n",
            "  1.37646625e-01  1.05215343e-01 -1.00566015e-01  1.23241777e-01\n",
            "  1.46320162e-01  6.96878110e-02  1.07242301e-01  1.25713644e-01\n",
            " -2.29505020e-01 -1.64583554e-01  7.21378876e-02  1.41702304e-01\n",
            " -2.81875532e-01 -9.90292637e-02 -3.27304299e-01 -2.54362699e-01\n",
            " -9.47158771e-02 -1.82666814e-01 -1.40975971e-01  1.00780730e-01\n",
            "  1.85450161e-01 -3.32910501e-01 -4.56842697e-05 -1.21760683e-02\n",
            " -2.04644068e-01  7.70469507e-03 -1.11131930e-01 -1.85472321e-01\n",
            " -1.90221765e-01 -1.26736901e-01 -1.16240329e-01  1.17586733e-01\n",
            " -3.06366839e-02 -1.07842002e-01  5.28155172e-02 -3.82638209e-02\n",
            "  6.17364471e-02 -7.64516010e-02  6.82522070e-02  1.03191109e-01\n",
            "  2.22737209e-01  1.57690234e-01 -5.71463530e-02  2.26348820e-02\n",
            "  7.35417581e-02 -5.17498106e-02 -6.25447594e-02  2.13883993e-01\n",
            " -1.11448517e-01  1.00348345e-01 -1.03302845e-01 -5.45925106e-02\n",
            "  1.24729192e-01  6.29520242e-02  5.37353443e-02 -1.08800875e-01\n",
            "  6.49592951e-02 -5.30548170e-02  1.47712405e-01  1.09241342e-01\n",
            "  5.36716398e-03 -4.85517784e-02 -7.85974795e-02  2.69138569e-01\n",
            "  2.79235918e-02 -1.11413806e-01 -1.38093014e-01 -1.44902335e-01\n",
            "  2.54931858e-01 -1.92857389e-03  1.14443395e-01 -1.35911245e-02\n",
            "  1.37851505e-01  8.97206965e-02  2.42858655e-01  6.04021555e-02\n",
            "  4.32766311e-02 -1.16474312e-01 -4.47000087e-03  1.34866848e-01\n",
            "  4.89417041e-02  7.33448246e-02 -1.61247628e-01 -6.87876443e-02\n",
            " -1.19688109e-02 -1.45815329e-01  4.60490281e-01 -1.13151149e-01\n",
            "  9.01408086e-02 -1.13477082e-01  9.01587710e-02 -1.09958789e-01\n",
            "  1.66389001e-01  1.58236384e-01  1.17321122e-02  1.12141609e-01\n",
            "  1.23510895e-02  4.73814971e-02 -2.88283994e-01  6.31533257e-02\n",
            "  9.80796985e-02 -2.35199034e-02  1.54706855e-01  1.04689888e-01\n",
            "  6.65101699e-03  2.50451043e-01  7.14467122e-02 -1.88867332e-02\n",
            " -5.50326556e-02 -4.14067410e-03 -6.10153408e-02 -1.03665546e-01\n",
            "  1.41759389e-01 -1.10492660e-01  4.43207294e-02  9.30298948e-03\n",
            " -5.73060431e-02  1.59290382e-01  3.64968509e-02 -2.39241895e-01\n",
            "  2.52759753e-02  1.25705917e-01 -1.58025575e-02  2.31135292e-01\n",
            "  7.36213403e-02 -2.48408084e-01  1.39484463e-02  1.30647934e-01\n",
            " -1.87382648e-01 -1.55914877e-01  9.00930448e-02  4.20786345e-02\n",
            " -5.32920369e-05 -6.03744239e-02  8.02772529e-02 -4.20255061e-02\n",
            " -9.99621741e-02 -1.20472923e-01 -1.01911152e-02 -3.24443966e-02\n",
            " -1.07919798e-01  2.19050980e-02 -2.50099103e-01 -7.88931373e-02\n",
            " -3.14110537e-01 -8.09239101e-02  5.60694460e-02 -1.84946627e-02\n",
            " -4.86427504e-03 -9.93924071e-02  5.51792210e-02  6.90251096e-02\n",
            "  2.12758258e-01  2.19211535e-01  2.12052502e-01 -1.22886522e-01\n",
            "  2.11508369e-01  7.55583950e-02 -1.00939475e-01 -1.39481883e-01\n",
            "  1.03541054e-01  6.82786554e-02 -2.46379607e-02  4.78662811e-02\n",
            "  1.60456083e-01 -2.57444152e-01 -5.92059733e-02  6.01467999e-02\n",
            " -2.30979092e-01  6.90651478e-02 -2.37985456e-01  2.46456845e-02\n",
            " -9.65774246e-03 -3.23121900e-02 -1.56044335e-02  2.10157583e-02\n",
            " -1.17670268e-01  6.34108310e-02 -2.13207695e-01 -3.50253618e-01\n",
            " -3.64456944e-02  1.69326429e-02 -4.38318682e-02  1.05522323e-02\n",
            " -1.16529793e-01 -2.58081646e-02 -6.97686813e-02  2.96141432e-01\n",
            " -1.28936694e-01 -1.87304272e-02 -4.78932125e-02  1.31977644e-01]\n"
          ]
        }
      ]
    },
    {
      "cell_type": "markdown",
      "source": [
        "Test"
      ],
      "metadata": {
        "id": "yZymMNv3hhna"
      }
    },
    {
      "cell_type": "code",
      "source": [
        "# Create a list of average vectors for each comment (test)\n",
        "average_Word2Vec_vectors_test = []\n",
        "\n",
        "for comment in tokenized_words_test:\n",
        "    vectors = [word_vectors[word] if word in word_vectors else np.zeros(word_vectors.vector_size) for word in comment]\n",
        "\n",
        "    if not vectors:\n",
        "        # If there are no valid vectors for a comment, add a zero vector in the same dimension\n",
        "        average_Word2Vec_vectors_test.append(np.zeros(word_vectors.vector_size))\n",
        "    else:\n",
        "        average_vector = np.mean(vectors, axis=0)\n",
        "        average_Word2Vec_vectors_test.append(average_vector)\n",
        "\n",
        "# Convert the list of average vectors to a numpy array\n",
        "average_Word2Vec_test = np.array(average_Word2Vec_vectors_test)\n",
        "\n",
        "print(average_Word2Vec_test.shape)\n",
        "print(average_Word2Vec_test[0])"
      ],
      "metadata": {
        "colab": {
          "base_uri": "https://localhost:8080/"
        },
        "outputId": "7a5ba3f7-7d80-47ac-ee82-84a68e75a904",
        "id": "ODogiGBohlLJ"
      },
      "execution_count": null,
      "outputs": [
        {
          "output_type": "stream",
          "name": "stdout",
          "text": [
            "(6259, 200)\n",
            "[-0.16689613  0.04516371 -0.22380288 -0.19798619 -0.03160186 -0.41179827\n",
            " -0.04262786 -0.09739291  0.0896561   0.09631862 -0.0684322  -0.12756629\n",
            "  0.10014889  0.16491425 -0.01976217  0.18269703 -0.20268147 -0.02341793\n",
            "  0.11927141  0.05432297 -0.11008422  0.02747248 -0.26350781 -0.16330065\n",
            "  0.09129738 -0.20706293 -0.09945617  0.17509069 -0.08456969 -0.16520625\n",
            "  0.02366329 -0.00422374 -0.12220355  0.06839868 -0.13428944 -0.02490332\n",
            " -0.20837222 -0.03494718 -0.06333517 -0.04095747 -0.06135518 -0.14899874\n",
            "  0.0769539  -0.01213884 -0.00544674 -0.00633887 -0.00293275 -0.01226751\n",
            "  0.08521441  0.29204097  0.13839154 -0.07877603  0.03408152 -0.06625363\n",
            " -0.07277645 -0.05449048 -0.04284267  0.14033964 -0.01980972  0.02904999\n",
            "  0.11871953 -0.02867105  0.06211169 -0.153965    0.19169015  0.09378769\n",
            "  0.12933537  0.15548688 -0.04120565 -0.07595028  0.02028867  0.05708559\n",
            " -0.07016621 -0.15668614 -0.1347456  -0.15748677  0.16517897  0.02915587\n",
            "  0.21629652  0.02661463  0.15556274  0.01395867  0.17067371  0.21530254\n",
            "  0.08417753 -0.0686028   0.17022207  0.24652243 -0.10357705  0.04913755\n",
            " -0.08528854  0.02410283  0.07270955 -0.19046016  0.44901615 -0.03665745\n",
            "  0.11750516 -0.03018795 -0.05638076  0.06981461  0.14265971  0.07073409\n",
            " -0.0511063  -0.03505492  0.059137   -0.04916539 -0.30967721 -0.01473683\n",
            "  0.11149868 -0.02194152  0.08001143 -0.07684769  0.03621351  0.19973196\n",
            "  0.04220843  0.09102318 -0.08751902 -0.00603695  0.14449458 -0.16198927\n",
            "  0.23271243 -0.11710864 -0.09812403 -0.20079398 -0.04292226  0.18183373\n",
            " -0.00689285 -0.24495029 -0.15871458  0.28592408  0.12536542  0.27152282\n",
            "  0.02806596 -0.07127324  0.11848823  0.17467718 -0.14040357 -0.18117955\n",
            "  0.16692968  0.15833721  0.05962992 -0.04546696  0.09329303 -0.11596477\n",
            " -0.04967177 -0.17007998 -0.0997371  -0.15034017 -0.14434189 -0.03767529\n",
            " -0.23679148  0.08172222 -0.3022764  -0.07124663  0.16461158 -0.06117\n",
            "  0.17133215 -0.29589781 -0.01829783  0.09955271  0.18315096  0.03068039\n",
            "  0.28043923 -0.0361165   0.10278901  0.1069515  -0.10934009 -0.14890808\n",
            "  0.09505084  0.04865371  0.04668544  0.25246122  0.26595947 -0.19167978\n",
            "  0.02430499  0.08889565 -0.0338619  -0.0005668  -0.15793055 -0.006002\n",
            "  0.00380173 -0.14295143 -0.05855045  0.12819608 -0.17067122  0.11929393\n",
            " -0.28646633 -0.16553849 -0.01097245 -0.07267633 -0.00980928  0.13470607\n",
            " -0.08379396  0.08814207 -0.10121035  0.20114405 -0.15515865 -0.18140677\n",
            "  0.07490186  0.11485391]\n"
          ]
        }
      ]
    },
    {
      "cell_type": "markdown",
      "metadata": {
        "id": "fTTHJUDIxpFW"
      },
      "source": [
        "**c) Craete a list of Sum Word2Vec vectors for each tokenized comment based on individual words Word2Vec feature**"
      ]
    },
    {
      "cell_type": "markdown",
      "source": [
        "Train"
      ],
      "metadata": {
        "id": "E24MPBHP09l3"
      }
    },
    {
      "cell_type": "code",
      "source": [
        "# Create a list of sum vectors for each comment (train)\n",
        "sum_Word2Vec_vectors_train = []\n",
        "\n",
        "for comment in tokenized_words_train:\n",
        "    vectors = [word_vectors[word] if word in word_vectors else np.zeros(word_vectors.vector_size) for word in comment]\n",
        "\n",
        "    if not vectors:\n",
        "        # If there are no valid vectors for a comment, add a zero vector in the same dimension\n",
        "        sum_Word2Vec_vectors_train.append(np.zeros(word_vectors.vector_size))\n",
        "    else:\n",
        "        sum_vector = np.sum(vectors, axis=0)\n",
        "        sum_Word2Vec_vectors_train.append(sum_vector)\n",
        "\n",
        "# Convert the list of sum vectors to a numpy array\n",
        "sum_Word2Vec_train = np.array(sum_Word2Vec_vectors_train)\n",
        "print(sum_Word2Vec_train.shape)\n",
        "print(sum_Word2Vec_train[0])"
      ],
      "metadata": {
        "id": "r-N05zCluPQa",
        "colab": {
          "base_uri": "https://localhost:8080/"
        },
        "outputId": "a25ced90-f014-4f4d-f86f-0650b3c1d7b1"
      },
      "execution_count": null,
      "outputs": [
        {
          "output_type": "stream",
          "name": "stdout",
          "text": [
            "(63700, 200)\n",
            "[-1.49311839e+00 -1.14185888e-01 -2.66472017e+00 -1.90967490e+00\n",
            " -2.24497973e+00 -2.10381182e+00 -4.15080518e-01 -7.52033176e-01\n",
            "  1.23881962e+00  9.46938083e-01 -9.05094136e-01  1.10917600e+00\n",
            "  1.31688146e+00  6.27190299e-01  9.65180710e-01  1.13142280e+00\n",
            " -2.06554518e+00 -1.48125198e+00  6.49240988e-01  1.27532074e+00\n",
            " -2.53687979e+00 -8.91263373e-01 -2.94573869e+00 -2.28926429e+00\n",
            " -8.52442894e-01 -1.64400133e+00 -1.26878374e+00  9.07026574e-01\n",
            "  1.66905145e+00 -2.99619451e+00 -4.11158428e-04 -1.09584615e-01\n",
            " -1.84179661e+00  6.93422556e-02 -1.00018737e+00 -1.66925089e+00\n",
            " -1.71199589e+00 -1.14063211e+00 -1.04616296e+00  1.05828059e+00\n",
            " -2.75730155e-01 -9.70578022e-01  4.75339655e-01 -3.44374388e-01\n",
            "  5.55628024e-01 -6.88064409e-01  6.14269863e-01  9.28719979e-01\n",
            "  2.00463488e+00  1.41921211e+00 -5.14317177e-01  2.03713938e-01\n",
            "  6.61875823e-01 -4.65748295e-01 -5.62902834e-01  1.92495593e+00\n",
            " -1.00303665e+00  9.03135106e-01 -9.29725606e-01 -4.91332595e-01\n",
            "  1.12256273e+00  5.66568218e-01  4.83618098e-01 -9.79207873e-01\n",
            "  5.84633656e-01 -4.77493353e-01  1.32941165e+00  9.83172081e-01\n",
            "  4.83044758e-02 -4.36966006e-01 -7.07377315e-01  2.42224713e+00\n",
            "  2.51312327e-01 -1.00272425e+00 -1.24283713e+00 -1.30412101e+00\n",
            "  2.29438672e+00 -1.73571650e-02  1.02999055e+00 -1.22320121e-01\n",
            "  1.24066354e+00  8.07486268e-01  2.18572789e+00  5.43619400e-01\n",
            "  3.89489680e-01 -1.04826881e+00 -4.02300078e-02  1.21380163e+00\n",
            "  4.40475337e-01  6.60103422e-01 -1.45122866e+00 -6.19088799e-01\n",
            " -1.07719298e-01 -1.31233796e+00  4.14441253e+00 -1.01836034e+00\n",
            "  8.11267277e-01 -1.02129374e+00  8.11428939e-01 -9.89629101e-01\n",
            "  1.49750101e+00  1.42412746e+00  1.05589010e-01  1.00927448e+00\n",
            "  1.11159805e-01  4.26433474e-01 -2.59455594e+00  5.68379931e-01\n",
            "  8.82717287e-01 -2.11679131e-01  1.39236169e+00  9.42208992e-01\n",
            "  5.98591529e-02  2.25405938e+00  6.43020410e-01 -1.69980599e-01\n",
            " -4.95293900e-01 -3.72660669e-02 -5.49138067e-01 -9.32989910e-01\n",
            "  1.27583450e+00 -9.94433938e-01  3.98886564e-01  8.37269053e-02\n",
            " -5.15754388e-01  1.43361344e+00  3.28471658e-01 -2.15317706e+00\n",
            "  2.27483778e-01  1.13135326e+00 -1.42223017e-01  2.08021763e+00\n",
            "  6.62592063e-01 -2.23567276e+00  1.25536017e-01  1.17583141e+00\n",
            " -1.68644383e+00 -1.40323389e+00  8.10837403e-01  3.78707711e-01\n",
            " -4.79628332e-04 -5.43369815e-01  7.22495276e-01 -3.78229555e-01\n",
            " -8.99659567e-01 -1.08425631e+00 -9.17200372e-02 -2.91999570e-01\n",
            " -9.71278182e-01  1.97145882e-01 -2.25089192e+00 -7.10038235e-01\n",
            " -2.82699483e+00 -7.28315191e-01  5.04625014e-01 -1.66451965e-01\n",
            " -4.37784754e-02 -8.94531664e-01  4.96612989e-01  6.21225987e-01\n",
            "  1.91482432e+00  1.97290382e+00  1.90847252e+00 -1.10597870e+00\n",
            "  1.90357532e+00  6.80025555e-01 -9.08455275e-01 -1.25533694e+00\n",
            "  9.31869489e-01  6.14507899e-01 -2.21741647e-01  4.30796530e-01\n",
            "  1.44410475e+00 -2.31699736e+00 -5.32853760e-01  5.41321199e-01\n",
            " -2.07881183e+00  6.21586330e-01 -2.14186910e+00  2.21811160e-01\n",
            " -8.69196821e-02 -2.90809710e-01 -1.40439902e-01  1.89141825e-01\n",
            " -1.05903241e+00  5.70697479e-01 -1.91886926e+00 -3.15228257e+00\n",
            " -3.28011249e-01  1.52393786e-01 -3.94486814e-01  9.49700903e-02\n",
            " -1.04876814e+00 -2.32273482e-01 -6.27918132e-01  2.66527289e+00\n",
            " -1.16043025e+00 -1.68573845e-01 -4.31038912e-01  1.18779879e+00]\n"
          ]
        }
      ]
    },
    {
      "cell_type": "markdown",
      "source": [
        "Test"
      ],
      "metadata": {
        "id": "JN2neMbI1Vxh"
      }
    },
    {
      "cell_type": "code",
      "source": [
        "# Create a list of sum vectors for each comment (test)\n",
        "sum_Word2Vec_vectors_test = []\n",
        "\n",
        "for comment in tokenized_words_test:\n",
        "    vectors = [word_vectors[word] if word in word_vectors else np.zeros(word_vectors.vector_size) for word in comment]\n",
        "\n",
        "    if not vectors:\n",
        "        # If there are no valid vectors for a comment, add a zero vector in the same dimension\n",
        "        sum_Word2Vec_vectors_test.append(np.zeros(word_vectors.vector_size))\n",
        "    else:\n",
        "        sum_vector = np.sum(vectors, axis=0)\n",
        "        sum_Word2Vec_vectors_test.append(sum_vector)\n",
        "\n",
        "# Convert the list of sum vectors to a numpy array\n",
        "sum_Word2Vec_test = np.array(sum_Word2Vec_vectors_test)\n",
        "print(sum_Word2Vec_test.shape)\n",
        "print(sum_Word2Vec_test[0])"
      ],
      "metadata": {
        "colab": {
          "base_uri": "https://localhost:8080/"
        },
        "outputId": "b9599286-17ed-454f-ece3-741e9e7c9b12",
        "id": "0mLPgHH91ZA-"
      },
      "execution_count": null,
      "outputs": [
        {
          "output_type": "stream",
          "name": "stdout",
          "text": [
            "(6259, 200)\n",
            "[-1.50206518  0.40647343 -2.01422596 -1.78187573 -0.28441676 -3.70618439\n",
            " -0.38365078 -0.87653619  0.80690491  0.8668676  -0.61588985 -1.14809668\n",
            "  0.90133995  1.48422825 -0.1778595   1.64427328 -1.82413316 -0.21076137\n",
            "  1.0734427   0.48890677 -0.990758    0.24725232 -2.37157035 -1.46970582\n",
            "  0.82167643 -1.8635664  -0.89510554  1.57581615 -0.76112723 -1.48685622\n",
            "  0.21296962 -0.03801362 -1.09983194  0.61558819 -1.20860505 -0.22412987\n",
            " -1.87535    -0.31452459 -0.5700165  -0.36861724 -0.55219662 -1.34098864\n",
            "  0.69258511 -0.10924957 -0.04902069 -0.05704986 -0.02639479 -0.1104076\n",
            "  0.76692969  2.62836885  1.24552381 -0.70898426  0.3067337  -0.59628272\n",
            " -0.65498805 -0.49041429 -0.385584    1.26305676 -0.17828748  0.26144993\n",
            "  1.06847572 -0.25803947  0.55900526 -1.38568497  1.72521138  0.84408921\n",
            "  1.16401839  1.399382   -0.37085083 -0.6835525   0.18259801  0.51377034\n",
            " -0.63149589 -1.41017532 -1.21271038 -1.41738093  1.48661077  0.26240286\n",
            "  1.94666874  0.23953171  1.40006471  0.12562805  1.53606343  1.93772292\n",
            "  0.7575978  -0.6174252   1.53199863  2.21870184 -0.9321934   0.44223797\n",
            " -0.76759684  0.2169255   0.65438592 -1.71414149  4.04114532 -0.32991707\n",
            "  1.05754638 -0.27169156 -0.50742686  0.62833154  1.28393734  0.63660681\n",
            " -0.45995671 -0.31549427  0.532233   -0.44248852 -2.78709483 -0.13263145\n",
            "  1.00348818 -0.19747365  0.72010291 -0.69162923  0.3259216   1.79758763\n",
            "  0.37987587  0.81920856 -0.78767115 -0.05433252  1.30045116 -1.45790339\n",
            "  2.09441185 -1.05397773 -0.8831163  -1.80714583 -0.38630036  1.63650358\n",
            " -0.06203566 -2.20455265 -1.42843115  2.57331657  1.12828875  2.44370532\n",
            "  0.25259364 -0.64145917  1.06639409  1.57209456 -1.26363206 -1.63061595\n",
            "  1.50236714  1.42503488  0.53666931 -0.40920261  0.83963728 -1.04368293\n",
            " -0.44704589 -1.53071976 -0.89763391 -1.35306156 -1.29907703 -0.33907762\n",
            " -2.1311233   0.73549998 -2.72048759 -0.64121968  1.4815042  -0.55052996\n",
            "  1.54198933 -2.66308022 -0.16468045  0.8959744   1.6483587   0.27612352\n",
            "  2.52395296 -0.32504848  0.92510116  0.96256351 -0.98406076 -1.34017265\n",
            "  0.8554576   0.43788338  0.42016894  2.27215099  2.39363527 -1.72511804\n",
            "  0.21874493  0.80006087 -0.30475709 -0.00510119 -1.42137492 -0.05401803\n",
            "  0.03421553 -1.2865628  -0.52695405  1.15376472 -1.53604102  1.07364535\n",
            " -2.578197   -1.48984647 -0.09875205 -0.65408695 -0.08828351  1.21235454\n",
            " -0.75414562  0.79327869 -0.91089314  1.81029654 -1.39642787 -1.63266087\n",
            "  0.67411673  1.03368521]\n"
          ]
        }
      ]
    },
    {
      "cell_type": "markdown",
      "metadata": {
        "id": "mazP6k0wkV-e"
      },
      "source": [
        "# Make Data Ready for Training"
      ]
    },
    {
      "cell_type": "markdown",
      "metadata": {
        "id": "EuLkr5iSknpG"
      },
      "source": [
        "**Build inputs X for train data**"
      ]
    },
    {
      "cell_type": "markdown",
      "source": [
        "a) For **Average** Word2Vec"
      ],
      "metadata": {
        "id": "U7ew6OIC18dq"
      }
    },
    {
      "cell_type": "code",
      "execution_count": null,
      "metadata": {
        "colab": {
          "base_uri": "https://localhost:8080/"
        },
        "id": "Dp-xDg3jgG3e",
        "outputId": "2909a397-abd3-4158-ccfd-3406456c006e"
      },
      "outputs": [
        {
          "output_type": "stream",
          "name": "stdout",
          "text": [
            "shapes of X for average Word2Vec train:  (63700, 200)\n"
          ]
        }
      ],
      "source": [
        "# Inputs X for average Word2Vec features (train)\n",
        "X_average_train = average_Word2Vec_train\n",
        "print(\"shapes of X for average Word2Vec train: \", X_average_train.shape)"
      ]
    },
    {
      "cell_type": "markdown",
      "source": [
        "b) For **Sum** Word2Vec"
      ],
      "metadata": {
        "id": "0oCopB2t3qfC"
      }
    },
    {
      "cell_type": "code",
      "source": [
        "# Inputs X for Sum Word2Vec features (train)\n",
        "X_sum_train = sum_Word2Vec_train\n",
        "print(\"shapes of X for sum Word2Vec features: \", X_sum_train.shape)"
      ],
      "metadata": {
        "colab": {
          "base_uri": "https://localhost:8080/"
        },
        "id": "qsymLR_g2qrA",
        "outputId": "3fc15f4d-a945-461b-d9d7-424e8f6e3d80"
      },
      "execution_count": null,
      "outputs": [
        {
          "output_type": "stream",
          "name": "stdout",
          "text": [
            "shapes of X for sum Word2Vec features:  (63700, 200)\n"
          ]
        }
      ]
    },
    {
      "cell_type": "markdown",
      "source": [
        "**Buill targets (label) y for train**"
      ],
      "metadata": {
        "id": "B9mBVgfY3Jjh"
      }
    },
    {
      "cell_type": "code",
      "source": [
        "# Labels_id y for train data set\n",
        "labels_train = []\n",
        "for label_id in train_data_set['label_id']:\n",
        "  labels_train.append(label_id)\n",
        "y_train = np.array(labels_train)\n",
        "print(\"shapes of y_train: \", y_train.shape)"
      ],
      "metadata": {
        "colab": {
          "base_uri": "https://localhost:8080/"
        },
        "id": "5X1_XEAg3-kB",
        "outputId": "86ce7aea-610d-4fa2-e7d9-512acf79c479"
      },
      "execution_count": null,
      "outputs": [
        {
          "output_type": "stream",
          "name": "stdout",
          "text": [
            "shapes of y_train:  (63700,)\n"
          ]
        }
      ]
    },
    {
      "cell_type": "markdown",
      "metadata": {
        "id": "1o5m13t24L0r"
      },
      "source": [
        "**Build inputs X for test data**"
      ]
    },
    {
      "cell_type": "markdown",
      "source": [
        "a) For **Average** Word2Vec"
      ],
      "metadata": {
        "id": "hNXgFLsX4UyM"
      }
    },
    {
      "cell_type": "code",
      "execution_count": null,
      "metadata": {
        "colab": {
          "base_uri": "https://localhost:8080/"
        },
        "outputId": "829c12ab-cc90-405a-99f4-fbd4c146cb98",
        "id": "YffMAGLp4Yxf"
      },
      "outputs": [
        {
          "output_type": "stream",
          "name": "stdout",
          "text": [
            "shapes of X for average Word2Vec test:  (6259, 200)\n"
          ]
        }
      ],
      "source": [
        "# Inputs X for average Word2Vec features (test)\n",
        "X_average_test = average_Word2Vec_test\n",
        "print(\"shapes of X for average Word2Vec test: \", X_average_test.shape)"
      ]
    },
    {
      "cell_type": "markdown",
      "source": [
        "b) For **Sum** Word2Vec"
      ],
      "metadata": {
        "id": "7_aRea9E43RT"
      }
    },
    {
      "cell_type": "code",
      "source": [
        "# Inputs X for Sum Word2Vec features (test)\n",
        "X_sum_test = sum_Word2Vec_test\n",
        "print(\"shapes of X for sum Word2Vec features: \", X_sum_test.shape)"
      ],
      "metadata": {
        "colab": {
          "base_uri": "https://localhost:8080/"
        },
        "id": "rtLbtsX448EM",
        "outputId": "c866a539-b302-4a9a-f55b-b5615cbb2df8"
      },
      "execution_count": null,
      "outputs": [
        {
          "output_type": "stream",
          "name": "stdout",
          "text": [
            "shapes of X for sum Word2Vec features:  (6259, 200)\n"
          ]
        }
      ]
    },
    {
      "cell_type": "markdown",
      "source": [
        "**Buill targets (label) y for test**"
      ],
      "metadata": {
        "id": "fy1MGIyc5R5S"
      }
    },
    {
      "cell_type": "code",
      "source": [
        "# Labels_id y for test data set\n",
        "labels_test = []\n",
        "for label_id in test_data_set['label_id']:\n",
        "  labels_test.append(label_id)\n",
        "y_test = np.array(labels_test)\n",
        "print(\"shapes of y_test: \", y_test.shape)"
      ],
      "metadata": {
        "colab": {
          "base_uri": "https://localhost:8080/"
        },
        "outputId": "7a2e680c-5c7e-4196-df0f-ee040e35a829",
        "id": "rtH9JxWY5do6"
      },
      "execution_count": null,
      "outputs": [
        {
          "output_type": "stream",
          "name": "stdout",
          "text": [
            "shapes of y_test:  (6259,)\n"
          ]
        }
      ]
    },
    {
      "cell_type": "markdown",
      "metadata": {
        "id": "Vn6u4ebSPxfN"
      },
      "source": [
        "# Normalize the features  of $\\boldsymbol{X}_\\text{train}$ and $\\boldsymbol{X}_\\text{test}$"
      ]
    },
    {
      "cell_type": "markdown",
      "source": [
        "a) For **Avarage** Word2Vec"
      ],
      "metadata": {
        "id": "n_c1NgrI6NvQ"
      }
    },
    {
      "cell_type": "code",
      "execution_count": null,
      "metadata": {
        "id": "zhlJGDFHCVIj",
        "colab": {
          "base_uri": "https://localhost:8080/"
        },
        "outputId": "1ade465f-a4a2-428a-ee98-c5093d6f436d"
      },
      "outputs": [
        {
          "output_type": "stream",
          "name": "stdout",
          "text": [
            "[-2.20783897e+00 -2.32405153e-01 -3.76456301e+00 -3.69823464e+00\n",
            " -3.41721819e+00 -3.31944748e+00 -4.79743057e-01 -1.25863942e+00\n",
            "  1.72036412e+00  1.73921293e+00 -1.69662700e+00  2.11960093e+00\n",
            "  2.11824683e+00  1.16889044e+00  1.83368632e+00  1.62836776e+00\n",
            " -3.15193410e+00 -2.29326519e+00  1.04665503e+00  2.12251397e+00\n",
            " -4.66947328e+00 -1.62678745e+00 -4.52591969e+00 -3.72911508e+00\n",
            " -1.40315643e+00 -2.54008640e+00 -2.02475906e+00  1.45781315e+00\n",
            "  2.84134440e+00 -4.62507802e+00 -7.05558109e-04 -1.75998843e-01\n",
            " -2.78781705e+00  1.08561129e-01 -1.60277358e+00 -3.37205233e+00\n",
            " -3.28413254e+00 -2.19166629e+00 -1.79633973e+00  1.57431604e+00\n",
            " -5.09759087e-01 -1.47993613e+00  8.16892438e-01 -6.80781442e-01\n",
            "  1.10247648e+00 -1.21330805e+00  1.07186310e+00  1.38044511e+00\n",
            "  3.60551261e+00  2.60758757e+00 -8.33063760e-01  3.56666237e-01\n",
            "  1.04416413e+00 -7.37918630e-01 -9.76193967e-01  3.20327044e+00\n",
            " -2.11405818e+00  1.34007924e+00 -1.54750487e+00 -8.60875538e-01\n",
            "  1.97198627e+00  8.74302202e-01  8.70181890e-01 -1.59029696e+00\n",
            "  1.06884939e+00 -7.50691512e-01  2.13737320e+00  1.29292085e+00\n",
            "  7.76443324e-02 -7.43387123e-01 -1.05598445e+00  4.16242210e+00\n",
            "  4.38039808e-01 -1.53118483e+00 -2.09807467e+00 -2.02226344e+00\n",
            "  3.80187851e+00 -3.02223728e-02  1.74054158e+00 -2.14177106e-01\n",
            "  2.04850730e+00  1.41288428e+00  3.72672817e+00  7.20711585e-01\n",
            "  6.65413611e-01 -1.80820828e+00 -6.05879721e-02  1.87595348e+00\n",
            "  7.49470834e-01  1.19312356e+00 -2.45413923e+00 -8.64152842e-01\n",
            " -1.82417496e-01 -2.04491389e+00  5.80628031e+00 -1.68540379e+00\n",
            "  1.21271370e+00 -1.52614402e+00  1.43811619e+00 -1.62636690e+00\n",
            "  2.25539541e+00  2.52737884e+00  1.83445291e-01  1.45461265e+00\n",
            "  2.11265959e-01  7.21281427e-01 -4.09465343e+00  1.07019229e+00\n",
            "  1.39688058e+00 -4.01536262e-01  2.59913225e+00  1.91409446e+00\n",
            "  9.71693057e-02  3.60068792e+00  1.02550669e+00 -3.22582219e-01\n",
            " -8.39718065e-01 -6.58045197e-02 -1.00305730e+00 -1.63075058e+00\n",
            "  2.19258264e+00 -1.71467587e+00  7.02930357e-01  1.48612627e-01\n",
            " -8.66012161e-01  2.45583176e+00  5.89339977e-01 -3.32920248e+00\n",
            "  3.82131695e-01  1.95433014e+00 -2.60878108e-01  3.67617597e+00\n",
            "  1.07331378e+00 -2.83192756e+00  2.05059985e-01  2.29923823e+00\n",
            " -2.78984004e+00 -2.28107779e+00  1.42469853e+00  5.90949427e-01\n",
            " -8.14264204e-04 -9.08684465e-01  1.14307144e+00 -6.23087597e-01\n",
            " -1.49346129e+00 -1.80739833e+00 -1.42518970e-01 -6.15539760e-01\n",
            " -1.62685955e+00  3.92755166e-01 -3.84858659e+00 -1.15563932e+00\n",
            " -4.74243497e+00 -1.23838164e+00  9.62310648e-01 -3.14567832e-01\n",
            " -7.40537816e-02 -1.34198570e+00  8.99229640e-01  1.02836475e+00\n",
            "  3.30656627e+00  2.60391792e+00  2.68514885e+00 -1.75042035e+00\n",
            "  2.94162510e+00  1.16943739e+00 -1.66069943e+00 -2.38958751e+00\n",
            "  1.46152253e+00  1.05565280e+00 -3.16422171e-01  6.61660808e-01\n",
            "  2.59572654e+00 -2.94926884e+00 -8.97925385e-01  9.72644473e-01\n",
            " -3.25140307e+00  9.79051722e-01 -3.66325907e+00  4.38294820e-01\n",
            " -1.68863013e-01 -5.09739845e-01 -2.33780709e-01  3.10219168e-01\n",
            " -1.83434544e+00  9.65753197e-01 -2.93223380e+00 -5.73012240e+00\n",
            " -5.92524403e-01  2.99034718e-01 -7.33226156e-01  1.60158634e-01\n",
            " -1.89898815e+00 -3.77096221e-01 -1.21713926e+00  3.78434949e+00\n",
            " -1.76376414e+00 -2.88445709e-01 -7.33739101e-01  2.16262392e+00]\n",
            "[-2.22106842  0.82730466 -2.84558223 -3.45074145 -0.43292778 -5.84771147\n",
            " -0.44341709 -1.46701372  1.12055881  1.59214991 -1.15450459 -2.19397707\n",
            "  1.44983479  2.76614645 -0.3379041   2.36647305 -2.78354969 -0.32629944\n",
            "  1.73051954  0.81368662 -1.82362521  0.45129978 -3.64375049 -2.39408889\n",
            "  1.35251355 -2.87932833 -1.42843335  2.53272131 -1.29572075 -2.29518687\n",
            "  0.36546116 -0.06105194 -1.66474967  0.963755   -1.93675727 -0.45276458\n",
            " -3.59749574 -0.6043429  -0.97876077 -0.54836119 -1.02087945 -2.04473776\n",
            "  1.19023849 -0.21597157 -0.09726679 -0.10059967 -0.04605728 -0.16410935\n",
            "  1.37939062  4.82923002  2.01743366 -1.24130317  0.48389791 -0.94473369\n",
            " -1.13588946 -0.81608601 -0.8126792   1.87413397 -0.29675501  0.45809265\n",
            "  1.87697259 -0.39819473  1.00582721 -2.25044206  3.15409668  1.32703548\n",
            "  1.8714607   1.84025779 -0.59610347 -1.1628917   0.27258531  0.88286986\n",
            " -1.10070339 -2.15337266 -2.04721671 -2.19789233  2.46336562  0.45689702\n",
            "  3.28960089  0.4194094   2.31170067  0.21981539  2.61903178  2.56896521\n",
            "  1.29429842 -1.06502584  2.30725017  3.42904586 -1.58613145  0.79933615\n",
            " -1.2980653   0.30279467  1.10817134 -2.67101293  5.66160408 -0.5460184\n",
            "  1.58086126 -0.4059953  -0.89932558  1.03260667  1.93374592  1.12977711\n",
            " -0.79910676 -0.4547048   1.01154116 -0.74843737 -4.39851289 -0.24972935\n",
            "  1.58799781 -0.37458974  1.34422163 -1.40504254  0.5290682   2.87150914\n",
            "  0.60583651  1.55466052 -1.33541261 -0.09594051  2.37540822 -2.5482343\n",
            "  3.59934706 -1.81734563 -1.55625514 -3.2076271  -0.64864365  2.80338989\n",
            " -0.11130364 -3.40863847 -2.39950664  4.44521668  2.06960765  4.31853421\n",
            "  0.40916914 -0.81253654  1.74192838  3.07409719 -2.09039366 -2.650707\n",
            "  2.63976498  2.22367674  0.91110259 -0.68431488  1.32840373 -1.71934182\n",
            " -0.7421093  -2.55162951 -1.39478639 -2.85227533 -2.17591193 -0.6755124\n",
            " -3.64380557  1.19708021 -4.56376343 -1.09028988  2.82520134 -1.04041439\n",
            "  2.60836272 -3.99518076 -0.29819105  1.48317767  2.84642673  0.36443895\n",
            "  3.55110674 -0.51445063  1.42957343  1.65531691 -1.79890988 -2.55107601\n",
            "  1.34167985  0.75223248  0.5995751   3.48979896  4.30247359 -2.19587505\n",
            "  0.36861265  1.43754716 -0.4766608  -0.0080348  -2.43099112 -0.10673864\n",
            "  0.06647215 -2.25512536 -0.87718442  1.89233618 -2.66056998  1.81685827\n",
            " -3.93975581 -2.70819703 -0.17838718 -1.28348222 -0.16409111  2.04452847\n",
            " -1.36551978  1.28788869 -1.76565024  2.57039143 -2.12246229 -2.79363639\n",
            "  1.14752003  1.88202947]\n"
          ]
        }
      ],
      "source": [
        "from sklearn.preprocessing import StandardScaler\n",
        "\n",
        "# Initialize the StandardScaler\n",
        "scaler_average = StandardScaler(with_mean=False)\n",
        "\n",
        "# Fit the scaler_average on the training data and transform X_average_train\n",
        "X_average_train_scaled = scaler_average.fit_transform(X_average_train)\n",
        "print(X_average_train_scaled[0])\n",
        "\n",
        "# Use the same scaler_average to transform X_test\n",
        "X_average_test_scaled = scaler_average.transform(X_average_test)\n",
        "print(X_average_test_scaled[0])"
      ]
    },
    {
      "cell_type": "markdown",
      "source": [
        "a) For **Sum** Word2Vec"
      ],
      "metadata": {
        "id": "Gm8KPjBY815u"
      }
    },
    {
      "cell_type": "code",
      "execution_count": null,
      "metadata": {
        "colab": {
          "base_uri": "https://localhost:8080/"
        },
        "id": "N-0ZV5E583RJ",
        "outputId": "6e0670eb-2570-4e8f-f0a9-360faec5f7cb"
      },
      "outputs": [
        {
          "output_type": "stream",
          "name": "stdout",
          "text": [
            "[-4.75519568e-01 -9.87513075e-02 -1.05747709e+00 -5.28647049e-01\n",
            " -1.79982964e+00 -4.22422092e-01 -1.86673017e-01 -3.76277751e-01\n",
            "  8.57882259e-01  6.25518286e-01 -4.21841397e-01  1.09385423e+00\n",
            "  7.18132759e-01  3.62387225e-01  9.64877632e-01  3.56421566e-01\n",
            " -5.72987838e-01 -9.42980449e-01  4.31021706e-01  7.89737291e-01\n",
            " -7.94213153e-01 -6.98325489e-01 -6.93823498e-01 -7.35616045e-01\n",
            " -7.34527485e-01 -6.63352333e-01 -5.01298795e-01  4.69950688e-01\n",
            "  1.24916333e+00 -8.98524277e-01 -3.77409041e-04 -7.10109487e-02\n",
            " -8.37210087e-01  5.86872175e-02 -6.63452451e-01 -7.88656634e-01\n",
            " -6.44493791e-01 -4.97437670e-01 -6.08811468e-01  7.76744529e-01\n",
            " -2.79014881e-01 -2.99985205e-01  3.23674385e-01 -3.78047375e-01\n",
            "  4.73011252e-01 -6.51648299e-01  4.34858130e-01  5.92135840e-01\n",
            "  7.61374360e-01  5.99094581e-01 -3.35372644e-01  9.99150410e-02\n",
            "  5.54184609e-01 -3.78898341e-01 -4.60783291e-01  1.14760157e+00\n",
            " -1.06782979e+00  3.12382689e-01 -5.31942964e-01 -3.80891579e-01\n",
            "  7.40951640e-01  4.34376999e-01  4.28297703e-01 -3.01939480e-01\n",
            "  3.32599229e-01 -1.87835664e-01  9.90255961e-01  6.01234115e-01\n",
            "  3.89085793e-02 -3.65020633e-01 -3.84855428e-01  9.43921616e-01\n",
            "  1.44121023e-01 -6.13944341e-01 -7.97159249e-01 -7.23863320e-01\n",
            "  5.39707739e-01 -1.36823917e-02  3.73392694e-01 -8.61307477e-02\n",
            "  4.55931930e-01  5.46423359e-01  5.56596201e-01  2.50694943e-01\n",
            "  2.64630605e-01 -4.77628332e-01 -3.16869253e-02  4.09730069e-01\n",
            "  3.69242269e-01  4.29882301e-01 -7.41821200e-01 -4.49635821e-01\n",
            " -9.25003536e-02 -5.06199559e-01  7.46767213e-01 -7.63272710e-01\n",
            "  4.13619463e-01 -7.80949002e-01  7.14408250e-01 -8.70649984e-01\n",
            "  7.90625405e-01  5.39433598e-01  1.00861939e-01  7.90863603e-01\n",
            "  1.01121496e-01  2.46583676e-01 -5.29857094e-01  5.09007589e-01\n",
            "  4.63161486e-01 -2.17000817e-01  9.90767165e-01  8.77638629e-01\n",
            "  2.92362798e-02  6.50605991e-01  5.58357599e-01 -1.37950241e-01\n",
            " -4.33833829e-01 -3.54173215e-02 -5.00125978e-01 -4.09116653e-01\n",
            "  5.19302276e-01 -4.79918004e-01  2.89244094e-01  5.62989601e-02\n",
            " -4.72296483e-01  5.40031017e-01  3.23793507e-01 -6.88629021e-01\n",
            "  1.58086031e-01  4.17523201e-01 -6.46518243e-02  5.86249229e-01\n",
            "  5.96076867e-01 -8.13252168e-01  6.84581016e-02  5.55053306e-01\n",
            " -5.20923781e-01 -8.01690747e-01  4.54456048e-01  2.43796049e-01\n",
            " -3.79544109e-04 -3.63080704e-01  3.06834987e-01 -1.88215940e-01\n",
            " -7.14011029e-01 -4.90466887e-01 -3.49648685e-02 -1.79140899e-01\n",
            " -4.09336833e-01  2.17200471e-01 -6.85511039e-01 -6.07031371e-01\n",
            " -6.34278697e-01 -5.73019407e-01  3.51812930e-01 -1.65372836e-01\n",
            " -3.98856995e-02 -3.07188973e-01  3.48850876e-01  2.46671643e-01\n",
            "  6.20022807e-01  9.16942079e-01  4.66606412e-01 -6.21829967e-01\n",
            "  1.07640337e+00  5.09291915e-01 -6.12813168e-01 -1.22265095e+00\n",
            "  5.60247619e-01  4.85777874e-01 -1.36241635e-01  1.32600412e-01\n",
            "  5.59176885e-01 -8.19881672e-01 -3.18341968e-01  3.91028496e-01\n",
            " -1.46987190e+00  4.86347395e-01 -9.32392808e-01  2.31342441e-01\n",
            " -7.73744367e-02 -1.32304192e-01 -9.56900115e-02  8.38445357e-02\n",
            " -9.07183372e-01  3.99978204e-01 -7.99372923e-01 -1.10364270e+00\n",
            " -3.02874672e-01  1.40844767e-01 -3.56350519e-01  7.33913921e-02\n",
            " -6.41467658e-01 -1.80196144e-01 -5.94228475e-01  7.14388072e-01\n",
            " -3.44993448e-01 -6.44437570e-02 -3.80238873e-01  5.41650034e-01]\n",
            "[-4.75519568e-01 -9.87513075e-02 -1.05747709e+00 -5.28647049e-01\n",
            " -1.79982964e+00 -4.22422092e-01 -1.86673017e-01 -3.76277751e-01\n",
            "  8.57882259e-01  6.25518286e-01 -4.21841397e-01  1.09385423e+00\n",
            "  7.18132759e-01  3.62387225e-01  9.64877632e-01  3.56421566e-01\n",
            " -5.72987838e-01 -9.42980449e-01  4.31021706e-01  7.89737291e-01\n",
            " -7.94213153e-01 -6.98325489e-01 -6.93823498e-01 -7.35616045e-01\n",
            " -7.34527485e-01 -6.63352333e-01 -5.01298795e-01  4.69950688e-01\n",
            "  1.24916333e+00 -8.98524277e-01 -3.77409041e-04 -7.10109487e-02\n",
            " -8.37210087e-01  5.86872175e-02 -6.63452451e-01 -7.88656634e-01\n",
            " -6.44493791e-01 -4.97437670e-01 -6.08811468e-01  7.76744529e-01\n",
            " -2.79014881e-01 -2.99985205e-01  3.23674385e-01 -3.78047375e-01\n",
            "  4.73011252e-01 -6.51648299e-01  4.34858130e-01  5.92135840e-01\n",
            "  7.61374360e-01  5.99094581e-01 -3.35372644e-01  9.99150410e-02\n",
            "  5.54184609e-01 -3.78898341e-01 -4.60783291e-01  1.14760157e+00\n",
            " -1.06782979e+00  3.12382689e-01 -5.31942964e-01 -3.80891579e-01\n",
            "  7.40951640e-01  4.34376999e-01  4.28297703e-01 -3.01939480e-01\n",
            "  3.32599229e-01 -1.87835664e-01  9.90255961e-01  6.01234115e-01\n",
            "  3.89085793e-02 -3.65020633e-01 -3.84855428e-01  9.43921616e-01\n",
            "  1.44121023e-01 -6.13944341e-01 -7.97159249e-01 -7.23863320e-01\n",
            "  5.39707739e-01 -1.36823917e-02  3.73392694e-01 -8.61307477e-02\n",
            "  4.55931930e-01  5.46423359e-01  5.56596201e-01  2.50694943e-01\n",
            "  2.64630605e-01 -4.77628332e-01 -3.16869253e-02  4.09730069e-01\n",
            "  3.69242269e-01  4.29882301e-01 -7.41821200e-01 -4.49635821e-01\n",
            " -9.25003536e-02 -5.06199559e-01  7.46767213e-01 -7.63272710e-01\n",
            "  4.13619463e-01 -7.80949002e-01  7.14408250e-01 -8.70649984e-01\n",
            "  7.90625405e-01  5.39433598e-01  1.00861939e-01  7.90863603e-01\n",
            "  1.01121496e-01  2.46583676e-01 -5.29857094e-01  5.09007589e-01\n",
            "  4.63161486e-01 -2.17000817e-01  9.90767165e-01  8.77638629e-01\n",
            "  2.92362798e-02  6.50605991e-01  5.58357599e-01 -1.37950241e-01\n",
            " -4.33833829e-01 -3.54173215e-02 -5.00125978e-01 -4.09116653e-01\n",
            "  5.19302276e-01 -4.79918004e-01  2.89244094e-01  5.62989601e-02\n",
            " -4.72296483e-01  5.40031017e-01  3.23793507e-01 -6.88629021e-01\n",
            "  1.58086031e-01  4.17523201e-01 -6.46518243e-02  5.86249229e-01\n",
            "  5.96076867e-01 -8.13252168e-01  6.84581016e-02  5.55053306e-01\n",
            " -5.20923781e-01 -8.01690747e-01  4.54456048e-01  2.43796049e-01\n",
            " -3.79544109e-04 -3.63080704e-01  3.06834987e-01 -1.88215940e-01\n",
            " -7.14011029e-01 -4.90466887e-01 -3.49648685e-02 -1.79140899e-01\n",
            " -4.09336833e-01  2.17200471e-01 -6.85511039e-01 -6.07031371e-01\n",
            " -6.34278697e-01 -5.73019407e-01  3.51812930e-01 -1.65372836e-01\n",
            " -3.98856995e-02 -3.07188973e-01  3.48850876e-01  2.46671643e-01\n",
            "  6.20022807e-01  9.16942079e-01  4.66606412e-01 -6.21829967e-01\n",
            "  1.07640337e+00  5.09291915e-01 -6.12813168e-01 -1.22265095e+00\n",
            "  5.60247619e-01  4.85777874e-01 -1.36241635e-01  1.32600412e-01\n",
            "  5.59176885e-01 -8.19881672e-01 -3.18341968e-01  3.91028496e-01\n",
            " -1.46987190e+00  4.86347395e-01 -9.32392808e-01  2.31342441e-01\n",
            " -7.73744367e-02 -1.32304192e-01 -9.56900115e-02  8.38445357e-02\n",
            " -9.07183372e-01  3.99978204e-01 -7.99372923e-01 -1.10364270e+00\n",
            " -3.02874672e-01  1.40844767e-01 -3.56350519e-01  7.33913921e-02\n",
            " -6.41467658e-01 -1.80196144e-01 -5.94228475e-01  7.14388072e-01\n",
            " -3.44993448e-01 -6.44437570e-02 -3.80238873e-01  5.41650034e-01]\n"
          ]
        }
      ],
      "source": [
        "from sklearn.preprocessing import StandardScaler\n",
        "\n",
        "# Initialize the StandardScaler\n",
        "scaler_sum = StandardScaler(with_mean=False)\n",
        "\n",
        "# Fit the scaler_sum on the training data and transform X_sum_train\n",
        "X_sum_train_scaled = scaler_sum.fit_transform(X_sum_train)\n",
        "print(X_sum_train_scaled[0])\n",
        "\n",
        "# Use the same scaler_sum to transform X_test\n",
        "X_sum_test_scaled = scaler_sum.transform(X_sum_test)\n",
        "print(X_sum_train_scaled[0])"
      ]
    },
    {
      "cell_type": "markdown",
      "metadata": {
        "id": "BV4hRmN5-eO-"
      },
      "source": [
        "# Train Multi-layer Perceptron Based On Average Word2Vec Features"
      ]
    },
    {
      "cell_type": "markdown",
      "source": [
        "**1) Convert the Numpy array data to PyTorch tensors**"
      ],
      "metadata": {
        "id": "7UcyUQqj-60j"
      }
    },
    {
      "cell_type": "code",
      "source": [
        "# Convert Numpy array average Word2Vec features vectors to PyTorch tensors\n",
        "X_train_tensor = torch.Tensor(X_average_train_scaled)\n",
        "X_test_tensor = torch.Tensor(X_average_test_scaled)\n",
        "y_train_tensor = torch.Tensor(y_train)\n",
        "y_test_tensor = torch.Tensor(y_test)"
      ],
      "metadata": {
        "id": "9e0HbqC5_mzs"
      },
      "execution_count": null,
      "outputs": []
    },
    {
      "cell_type": "markdown",
      "source": [
        "**2) Initialize MLP Model in PyTorch**"
      ],
      "metadata": {
        "id": "sr4c_6-L_QlX"
      }
    },
    {
      "cell_type": "code",
      "execution_count": null,
      "metadata": {
        "id": "eJo4AeVU-ePZ"
      },
      "outputs": [],
      "source": [
        "import torch\n",
        "import torch.nn as nn\n",
        "\n",
        "class MLPModel(nn.Module):\n",
        "    def __init__(self, input_size, hidden_size, output_size):\n",
        "        super(MLPModel, self).__init__()\n",
        "        self.fc1 = nn.Linear(input_size, hidden_size)\n",
        "        self.relu = nn.ReLU()\n",
        "        self.fc2 = nn.Linear(hidden_size, output_size)\n",
        "\n",
        "    def forward(self, x):\n",
        "        x = self.fc1(x)\n",
        "        x = self.relu(x)\n",
        "        x = self.fc2(x)\n",
        "        return x"
      ]
    },
    {
      "cell_type": "markdown",
      "source": [
        "**3) Initiailize the Hyper-Parameters**"
      ],
      "metadata": {
        "id": "VLh1Xz0D-ePa"
      }
    },
    {
      "cell_type": "code",
      "execution_count": null,
      "metadata": {
        "id": "bpDiP9I9-ePa"
      },
      "outputs": [],
      "source": [
        "input_size = 200    # 200 features in Word2Vec features\n",
        "hidden_size = 100   # Flexible and Adjustable\n",
        "output_size = 1     # Binary classification (Happy/Sad)"
      ]
    },
    {
      "cell_type": "markdown",
      "source": [
        "**4) Define Loss Function and Optimizer**"
      ],
      "metadata": {
        "id": "V_B_xyMIFhkw"
      }
    },
    {
      "cell_type": "code",
      "source": [
        "model = MLPModel(input_size, hidden_size, output_size)\n",
        "criterion = nn.BCEWithLogitsLoss()\n",
        "optimizer = torch.optim.Adam(model.parameters(), lr=0.001)"
      ],
      "metadata": {
        "id": "JNWCpsuWFjpb"
      },
      "execution_count": null,
      "outputs": []
    },
    {
      "cell_type": "markdown",
      "source": [
        "**5) Train the Model**"
      ],
      "metadata": {
        "id": "kF7wsZvBJmDk"
      }
    },
    {
      "cell_type": "code",
      "source": [
        "# Training the model\n",
        "\n",
        "from sklearn.metrics import accuracy_score, confusion_matrix\n",
        "# Lists to store training loss for plotting\n",
        "losses = []\n",
        "\n",
        "num_epochs = 2000  # Flexible and Adjustable\n",
        "\n",
        "# Training loop\n",
        "for epoch in range(num_epochs):\n",
        "  model.train()\n",
        "  optimizer.zero_grad()\n",
        "\n",
        "  # Forward pass\n",
        "  outputs = model(X_train_tensor)\n",
        "  loss = criterion(outputs, y_train_tensor.view(-1, 1))\n",
        "\n",
        "  # Backward pass and optimization\n",
        "  loss.backward()\n",
        "  optimizer.step()\n",
        "\n",
        "  if epoch % 100 == 0:\n",
        "    print(f'Epoch [{epoch+1}/{num_epochs}], Loss: {loss.item()}')\n",
        "    # Save the training loss for plotting\n",
        "    losses.append(loss.item())\n",
        "\n",
        "# Plot the training loss\n",
        "plt.plot(losses)\n",
        "plt.title('Training Loss Over Epochs')\n",
        "plt.xlabel('Epochs')\n",
        "plt.ylabel('Loss')\n",
        "plt.show()"
      ],
      "metadata": {
        "colab": {
          "base_uri": "https://localhost:8080/",
          "height": 1000
        },
        "id": "VkLpeLa7JkQs",
        "outputId": "42b1b7ee-4a2e-4a73-edee-82259039e750"
      },
      "execution_count": null,
      "outputs": [
        {
          "output_type": "stream",
          "name": "stdout",
          "text": [
            "Epoch [1/2000], Loss: 0.7216996550559998\n",
            "Epoch [101/2000], Loss: 0.4168364405632019\n",
            "Epoch [201/2000], Loss: 0.3830433785915375\n",
            "Epoch [301/2000], Loss: 0.3665957748889923\n",
            "Epoch [401/2000], Loss: 0.35422220826148987\n",
            "Epoch [501/2000], Loss: 0.3431318998336792\n",
            "Epoch [601/2000], Loss: 0.3337131142616272\n",
            "Epoch [701/2000], Loss: 0.3254779577255249\n",
            "Epoch [801/2000], Loss: 0.31863105297088623\n",
            "Epoch [901/2000], Loss: 0.3112935721874237\n",
            "Epoch [1001/2000], Loss: 0.3076688051223755\n",
            "Epoch [1101/2000], Loss: 0.30120211839675903\n",
            "Epoch [1201/2000], Loss: 0.29585501551628113\n",
            "Epoch [1301/2000], Loss: 0.2910979688167572\n",
            "Epoch [1401/2000], Loss: 0.2869754731655121\n",
            "Epoch [1501/2000], Loss: 0.28591346740722656\n",
            "Epoch [1601/2000], Loss: 0.2811770737171173\n",
            "Epoch [1701/2000], Loss: 0.27614739537239075\n",
            "Epoch [1801/2000], Loss: 0.2755790650844574\n",
            "Epoch [1901/2000], Loss: 0.2700669467449188\n"
          ]
        },
        {
          "output_type": "display_data",
          "data": {
            "text/plain": [
              "<Figure size 640x480 with 1 Axes>"
            ],
            "image/png": "[encoded data removed]"
          },
          "metadata": {}
        },
        {
          "output_type": "stream",
          "name": "stdout",
          "text": [
            "Accuracy on test data: 0.8183415881131171\n"
          ]
        },
        {
          "output_type": "display_data",
          "data": {
            "text/plain": [
              "<Figure size 800x600 with 2 Axes>"
            ],
            "image/png": "[encoded data removed]"
          },
          "metadata": {}
        }
      ]
    },
    {
      "cell_type": "markdown",
      "source": [
        "**6- Evaluate the model on the test set**"
      ],
      "metadata": {
        "id": "pE0F3vEREeXB"
      }
    },
    {
      "cell_type": "code",
      "source": [
        "# Evaluate the model on the test set\n",
        "with torch.no_grad():\n",
        "    model.eval()\n",
        "    predictions = model(X_test_tensor)\n",
        "    predicted_labels = (torch.sigmoid(predictions) > 0.5).float().numpy()\n",
        "\n",
        "    accuracy = accuracy_score(y_test_tensor.numpy(), predicted_labels)\n",
        "    print(f'Accuracy on test data: {accuracy}')\n",
        "\n",
        "    # Calculate and plot the confusion matrix\n",
        "    cm = confusion_matrix(y_test_tensor.numpy(), predicted_labels)\n",
        "    plt.figure(figsize=(8, 6))\n",
        "    sns.heatmap(cm, annot=True, fmt=\"d\", cmap=\"Blues\", xticklabels=['Negative', 'Positive'], yticklabels=['Negative', 'Positive'])\n",
        "    plt.title('Confusion Matrix')\n",
        "    plt.xlabel('Predicted')\n",
        "    plt.ylabel('True')\n",
        "    plt.show()\n",
        "\n",
        "# Calculate F1 score on test set\n",
        "with torch.no_grad():\n",
        "    model.eval()\n",
        "    test_predictions = model(X_test_tensor)\n",
        "    test_predictions = (test_predictions >= 0.5).float()\n",
        "\n",
        "    f1_test = precision_recall_fscore_support(y_test_tensor.numpy(), test_predictions.numpy(), average='binary')[2]\n",
        "    print(f'F1 Score on Test Data: {f1_test}')"
      ],
      "metadata": {
        "colab": {
          "base_uri": "https://localhost:8080/",
          "height": 600
        },
        "id": "Z4EY5hE7VQfM",
        "outputId": "5795c754-7f2e-4cab-c66a-f9b5f07f2ca6"
      },
      "execution_count": null,
      "outputs": [
        {
          "output_type": "stream",
          "name": "stdout",
          "text": [
            "Accuracy on test data: 0.8183415881131171\n"
          ]
        },
        {
          "output_type": "display_data",
          "data": {
            "text/plain": [
              "<Figure size 800x600 with 2 Axes>"
            ],
            "image/png": "[encoded data removed]"
          },
          "metadata": {}
        },
        {
          "output_type": "stream",
          "name": "stdout",
          "text": [
            "F1 Score on Test Data: 0.8150151105455703\n"
          ]
        }
      ]
    },
    {
      "cell_type": "markdown",
      "metadata": {
        "id": "hbj5RaJkY-cl"
      },
      "source": [
        "# Train Multi-layer Perceptron Based On Sum Word2Vec Features"
      ]
    },
    {
      "cell_type": "markdown",
      "source": [
        "**1) Convert the Numpy array data to PyTorch tensors**"
      ],
      "metadata": {
        "id": "Q1k6IDLCY-cl"
      }
    },
    {
      "cell_type": "code",
      "source": [
        "# Convert Numpy array sum Word2Vec features vectors to PyTorch tensors\n",
        "X_train_tensor = torch.Tensor(X_sum_train_scaled)\n",
        "X_test_tensor = torch.Tensor(X_sum_test_scaled)\n",
        "y_train_tensor = torch.Tensor(y_train)\n",
        "y_test_tensor = torch.Tensor(y_test)\n",
        "\n",
        "print(X_train_tensor[0])"
      ],
      "metadata": {
        "colab": {
          "base_uri": "https://localhost:8080/"
        },
        "id": "gOfKOQeAY-cl",
        "outputId": "ddaede20-510c-4b19-bf67-bed8c600b37f"
      },
      "execution_count": null,
      "outputs": [
        {
          "output_type": "stream",
          "name": "stdout",
          "text": [
            "tensor([-4.7552e-01, -9.8751e-02, -1.0575e+00, -5.2865e-01, -1.7998e+00,\n",
            "        -4.2242e-01, -1.8667e-01, -3.7628e-01,  8.5788e-01,  6.2552e-01,\n",
            "        -4.2184e-01,  1.0939e+00,  7.1813e-01,  3.6239e-01,  9.6488e-01,\n",
            "         3.5642e-01, -5.7299e-01, -9.4298e-01,  4.3102e-01,  7.8974e-01,\n",
            "        -7.9421e-01, -6.9833e-01, -6.9382e-01, -7.3562e-01, -7.3453e-01,\n",
            "        -6.6335e-01, -5.0130e-01,  4.6995e-01,  1.2492e+00, -8.9852e-01,\n",
            "        -3.7741e-04, -7.1011e-02, -8.3721e-01,  5.8687e-02, -6.6345e-01,\n",
            "        -7.8866e-01, -6.4449e-01, -4.9744e-01, -6.0881e-01,  7.7674e-01,\n",
            "        -2.7901e-01, -2.9999e-01,  3.2367e-01, -3.7805e-01,  4.7301e-01,\n",
            "        -6.5165e-01,  4.3486e-01,  5.9214e-01,  7.6137e-01,  5.9909e-01,\n",
            "        -3.3537e-01,  9.9915e-02,  5.5418e-01, -3.7890e-01, -4.6078e-01,\n",
            "         1.1476e+00, -1.0678e+00,  3.1238e-01, -5.3194e-01, -3.8089e-01,\n",
            "         7.4095e-01,  4.3438e-01,  4.2830e-01, -3.0194e-01,  3.3260e-01,\n",
            "        -1.8784e-01,  9.9026e-01,  6.0123e-01,  3.8909e-02, -3.6502e-01,\n",
            "        -3.8486e-01,  9.4392e-01,  1.4412e-01, -6.1394e-01, -7.9716e-01,\n",
            "        -7.2386e-01,  5.3971e-01, -1.3682e-02,  3.7339e-01, -8.6131e-02,\n",
            "         4.5593e-01,  5.4642e-01,  5.5660e-01,  2.5069e-01,  2.6463e-01,\n",
            "        -4.7763e-01, -3.1687e-02,  4.0973e-01,  3.6924e-01,  4.2988e-01,\n",
            "        -7.4182e-01, -4.4964e-01, -9.2500e-02, -5.0620e-01,  7.4677e-01,\n",
            "        -7.6327e-01,  4.1362e-01, -7.8095e-01,  7.1441e-01, -8.7065e-01,\n",
            "         7.9063e-01,  5.3943e-01,  1.0086e-01,  7.9086e-01,  1.0112e-01,\n",
            "         2.4658e-01, -5.2986e-01,  5.0901e-01,  4.6316e-01, -2.1700e-01,\n",
            "         9.9077e-01,  8.7764e-01,  2.9236e-02,  6.5061e-01,  5.5836e-01,\n",
            "        -1.3795e-01, -4.3383e-01, -3.5417e-02, -5.0013e-01, -4.0912e-01,\n",
            "         5.1930e-01, -4.7992e-01,  2.8924e-01,  5.6299e-02, -4.7230e-01,\n",
            "         5.4003e-01,  3.2379e-01, -6.8863e-01,  1.5809e-01,  4.1752e-01,\n",
            "        -6.4652e-02,  5.8625e-01,  5.9608e-01, -8.1325e-01,  6.8458e-02,\n",
            "         5.5505e-01, -5.2092e-01, -8.0169e-01,  4.5446e-01,  2.4380e-01,\n",
            "        -3.7954e-04, -3.6308e-01,  3.0683e-01, -1.8822e-01, -7.1401e-01,\n",
            "        -4.9047e-01, -3.4965e-02, -1.7914e-01, -4.0934e-01,  2.1720e-01,\n",
            "        -6.8551e-01, -6.0703e-01, -6.3428e-01, -5.7302e-01,  3.5181e-01,\n",
            "        -1.6537e-01, -3.9886e-02, -3.0719e-01,  3.4885e-01,  2.4667e-01,\n",
            "         6.2002e-01,  9.1694e-01,  4.6661e-01, -6.2183e-01,  1.0764e+00,\n",
            "         5.0929e-01, -6.1281e-01, -1.2227e+00,  5.6025e-01,  4.8578e-01,\n",
            "        -1.3624e-01,  1.3260e-01,  5.5918e-01, -8.1988e-01, -3.1834e-01,\n",
            "         3.9103e-01, -1.4699e+00,  4.8635e-01, -9.3239e-01,  2.3134e-01,\n",
            "        -7.7374e-02, -1.3230e-01, -9.5690e-02,  8.3845e-02, -9.0718e-01,\n",
            "         3.9998e-01, -7.9937e-01, -1.1036e+00, -3.0287e-01,  1.4084e-01,\n",
            "        -3.5635e-01,  7.3391e-02, -6.4147e-01, -1.8020e-01, -5.9423e-01,\n",
            "         7.1439e-01, -3.4499e-01, -6.4444e-02, -3.8024e-01,  5.4165e-01])\n"
          ]
        }
      ]
    },
    {
      "cell_type": "markdown",
      "source": [
        "**2) Initialize MLP Model in PyTorch**"
      ],
      "metadata": {
        "id": "PzRtgOZ1Y-cm"
      }
    },
    {
      "cell_type": "code",
      "execution_count": null,
      "metadata": {
        "id": "fIOOtB3nY-cm"
      },
      "outputs": [],
      "source": [
        "import torch\n",
        "import torch.nn as nn\n",
        "\n",
        "class MLPModel(nn.Module):\n",
        "    def __init__(self, input_size, hidden_size, output_size):\n",
        "        super(MLPModel, self).__init__()\n",
        "        self.fc1 = nn.Linear(input_size, hidden_size)\n",
        "        self.relu = nn.ReLU()\n",
        "        self.fc2 = nn.Linear(hidden_size, output_size)\n",
        "\n",
        "    def forward(self, x):\n",
        "        x = self.fc1(x)\n",
        "        x = self.relu(x)\n",
        "        x = self.fc2(x)\n",
        "        return x"
      ]
    },
    {
      "cell_type": "markdown",
      "source": [
        "**3) Initiailize the Hyper-Parameters**"
      ],
      "metadata": {
        "id": "VzoFQaCyY-cm"
      }
    },
    {
      "cell_type": "code",
      "execution_count": null,
      "metadata": {
        "id": "FW-rMs2NY-cn"
      },
      "outputs": [],
      "source": [
        "input_size = 200    # 200 features in Word2Vec features\n",
        "hidden_size = 100    # Flexible and Adjustable\n",
        "output_size = 1     # Binary classification (Happy/Sad)"
      ]
    },
    {
      "cell_type": "markdown",
      "source": [
        "**4) Define Loss Function and Optimizer**"
      ],
      "metadata": {
        "id": "T30X2bq_Y-cn"
      }
    },
    {
      "cell_type": "code",
      "source": [
        "model = MLPModel(input_size, hidden_size, output_size)\n",
        "criterion = nn.BCEWithLogitsLoss()\n",
        "optimizer = torch.optim.Adam(model.parameters(), lr=0.001)"
      ],
      "metadata": {
        "id": "P9MhmlJxY-cn"
      },
      "execution_count": null,
      "outputs": []
    },
    {
      "cell_type": "markdown",
      "source": [
        "**5) Train the Model**"
      ],
      "metadata": {
        "id": "nIFJj3idY-cn"
      }
    },
    {
      "cell_type": "code",
      "source": [
        "# Training the model\n",
        "\n",
        "from sklearn.metrics import accuracy_score, confusion_matrix\n",
        "# Lists to store training loss for plotting\n",
        "losses = []\n",
        "\n",
        "num_epochs = 2000  # Flexible and Adjustable\n",
        "\n",
        "# Training loop\n",
        "for epoch in range(num_epochs):\n",
        "  model.train()\n",
        "  optimizer.zero_grad()\n",
        "\n",
        "  # Forward pass\n",
        "  outputs = model(X_train_tensor)\n",
        "  loss = criterion(outputs, y_train_tensor.view(-1, 1))\n",
        "\n",
        "  # Backward pass and optimization\n",
        "  loss.backward()\n",
        "  optimizer.step()\n",
        "\n",
        "  if epoch % 100 == 0:\n",
        "    print(f'Epoch [{epoch+1}/{num_epochs}], Loss: {loss.item()}')\n",
        "    # Save the training loss for plotting\n",
        "    losses.append(loss.item())\n",
        "\n",
        "# Plot the training loss\n",
        "plt.plot(losses)\n",
        "plt.title('Training Loss Over Epochs')\n",
        "plt.xlabel('Epochs')\n",
        "plt.ylabel('Loss')\n",
        "plt.show()"
      ],
      "metadata": {
        "colab": {
          "base_uri": "https://localhost:8080/",
          "height": 837
        },
        "outputId": "0be85c29-5f98-4166-b258-3b2c9f070412",
        "id": "YF4RTmKIY-co"
      },
      "execution_count": null,
      "outputs": [
        {
          "output_type": "stream",
          "name": "stdout",
          "text": [
            "Epoch [1/2000], Loss: 0.7052698135375977\n",
            "Epoch [101/2000], Loss: 0.4381902813911438\n",
            "Epoch [201/2000], Loss: 0.3995780050754547\n",
            "Epoch [301/2000], Loss: 0.37840935587882996\n",
            "Epoch [401/2000], Loss: 0.36330628395080566\n",
            "Epoch [501/2000], Loss: 0.35162484645843506\n",
            "Epoch [601/2000], Loss: 0.34191033244132996\n",
            "Epoch [701/2000], Loss: 0.33293086290359497\n",
            "Epoch [801/2000], Loss: 0.32512804865837097\n",
            "Epoch [901/2000], Loss: 0.3183208107948303\n",
            "Epoch [1001/2000], Loss: 0.3127894997596741\n",
            "Epoch [1101/2000], Loss: 0.3080097734928131\n",
            "Epoch [1201/2000], Loss: 0.30364274978637695\n",
            "Epoch [1301/2000], Loss: 0.2999230921268463\n",
            "Epoch [1401/2000], Loss: 0.29579904675483704\n",
            "Epoch [1501/2000], Loss: 0.29195743799209595\n",
            "Epoch [1601/2000], Loss: 0.28893551230430603\n",
            "Epoch [1701/2000], Loss: 0.28592756390571594\n",
            "Epoch [1801/2000], Loss: 0.2819978594779968\n",
            "Epoch [1901/2000], Loss: 0.27972137928009033\n"
          ]
        },
        {
          "output_type": "display_data",
          "data": {
            "text/plain": [
              "<Figure size 640x480 with 1 Axes>"
            ],
            "image/png": "[encoded data removed]"
          },
          "metadata": {}
        }
      ]
    },
    {
      "cell_type": "markdown",
      "source": [
        "**6- Evaluate the model on the test set**"
      ],
      "metadata": {
        "id": "NB75eEQeY-co"
      }
    },
    {
      "cell_type": "code",
      "source": [
        "# Evaluate the model on the test set\n",
        "with torch.no_grad():\n",
        "    model.eval()\n",
        "    predictions = model(X_test_tensor)\n",
        "    predicted_labels = (torch.sigmoid(predictions) > 0.5).float().numpy()\n",
        "\n",
        "    accuracy = accuracy_score(y_test_tensor.numpy(), predicted_labels)\n",
        "    print(f'Accuracy on test data: {accuracy}')\n",
        "\n",
        "    # Calculate and plot the confusion matrix\n",
        "    cm = confusion_matrix(y_test_tensor.numpy(), predicted_labels)\n",
        "    plt.figure(figsize=(8, 6))\n",
        "    sns.heatmap(cm, annot=True, fmt=\"d\", cmap=\"Blues\", xticklabels=['Negative', 'Positive'], yticklabels=['Negative', 'Positive'])\n",
        "    plt.title('Confusion Matrix')\n",
        "    plt.xlabel('Predicted')\n",
        "    plt.ylabel('True')\n",
        "    plt.show()\n",
        "\n",
        "# Calculate F1 score on test set\n",
        "with torch.no_grad():\n",
        "    model.eval()\n",
        "    test_predictions = model(X_test_tensor)\n",
        "    test_predictions = (test_predictions >= 0.5).float()\n",
        "\n",
        "    f1_test = precision_recall_fscore_support(y_test_tensor.numpy(), test_predictions.numpy(), average='binary')[2]\n",
        "    print(f'F1 Score on Test Data: {f1_test}')"
      ],
      "metadata": {
        "colab": {
          "base_uri": "https://localhost:8080/",
          "height": 600
        },
        "id": "DXBVbRxSY-cp",
        "outputId": "ce48477d-4b07-4f10-e3a3-d5a21c76b125"
      },
      "execution_count": null,
      "outputs": [
        {
          "output_type": "stream",
          "name": "stdout",
          "text": [
            "Accuracy on test data: 0.8151461894871386\n"
          ]
        },
        {
          "output_type": "display_data",
          "data": {
            "text/plain": [
              "<Figure size 800x600 with 2 Axes>"
            ],
            "image/png": "[encoded data removed]"
          },
          "metadata": {}
        },
        {
          "output_type": "stream",
          "name": "stdout",
          "text": [
            "F1 Score on Test Data: 0.8000653381247959\n"
          ]
        }
      ]
    }
  ]
}