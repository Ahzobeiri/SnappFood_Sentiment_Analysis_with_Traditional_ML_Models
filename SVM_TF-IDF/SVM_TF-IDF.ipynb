{
  "cells": [
    {
      "cell_type": "markdown",
      "metadata": {
        "id": "tFPyLOQMj5NB"
      },
      "source": [
        "# Load Data"
      ]
    },
    {
      "cell_type": "code",
      "execution_count": null,
      "metadata": {
        "colab": {
          "base_uri": "https://localhost:8080/"
        },
        "id": "ImxFOAOZjpLu",
        "outputId": "fcf95936-fe15-46d9-ca76-c66227d2047c"
      },
      "outputs": [
        {
          "output_type": "stream",
          "name": "stderr",
          "text": [
            "[nltk_data] Downloading package punkt to /root/nltk_data...\n",
            "[nltk_data]   Package punkt is already up-to-date!\n"
          ]
        }
      ],
      "source": [
        "import os\n",
        "import pandas as pd\n",
        "import matplotlib.pyplot as plt\n",
        "import numpy as np\n",
        "import sklearn\n",
        "import nltk\n",
        "nltk.download('punkt')\n",
        "from nltk.tokenize import word_tokenize"
      ]
    },
    {
      "cell_type": "code",
      "execution_count": null,
      "metadata": {
        "id": "zwANIcQEjtXX"
      },
      "outputs": [],
      "source": [
        "# Load the train.csv file into a DataFrame name train_data_set\n",
        "train_data_set = pd.read_csv('train.csv')\n",
        "\n",
        "# Load the test.csv file into a DataFrame name test_data_set\n",
        "test_data_set = pd.read_csv('test.csv')"
      ]
    },
    {
      "cell_type": "markdown",
      "metadata": {
        "id": "2I6PIhc-Pxez"
      },
      "source": [
        "<div style=\"border-bottom: 3px solid black; margin-bottom:5px\"></div>\n",
        "<div style=\"border-bottom: 3px solid black\"></div>\n",
        "\n",
        "# &mdash; Pre-process the Data\n",
        "\n",
        "* a) Tokenize sentences into the words\n",
        "* b) Creat the bag_of_words"
      ]
    },
    {
      "cell_type": "markdown",
      "metadata": {
        "id": "vrSjGtLALLBy"
      },
      "source": [
        "**a) Tokenize sentences into the words**"
      ]
    },
    {
      "cell_type": "markdown",
      "metadata": {
        "id": "nt-ElXL8N1ou"
      },
      "source": [
        "for train data"
      ]
    },
    {
      "cell_type": "code",
      "execution_count": null,
      "metadata": {
        "colab": {
          "base_uri": "https://localhost:8080/"
        },
        "id": "TRW4u1gJjyMO",
        "outputId": "e3fe1145-c9eb-4dde-cd42-9bdcce991e2b"
      },
      "outputs": [
        {
          "output_type": "stream",
          "name": "stdout",
          "text": [
            "[['واقعا', 'حیف', 'وقت', 'که', 'بنویسم', 'سرویس', 'دهیتون', 'شده', 'افتضاح'], ['قرار', 'بود', '۱', 'ساعته', 'برسه', 'ولی', 'نیم', 'ساعت', 'زودتر', 'از', 'موقع', 'رسید،', 'شما', 'ببین', 'چقدرررررررررررر', 'پلاک', 'خفنههههه،', 'من', 'سالهاست', 'مشتریشونم', 'و', 'سالهاست', 'مزه', 'بهشت', 'میده', 'غذاشون'], ['قیمت', 'این', 'مدل', 'اصلا', 'با', 'کیفیتش', 'سازگاری', 'نداره،', 'فقط', 'ظاهر', 'فریبنده', 'داره،', 'پرش', 'میکنن', 'کالباس', 'و', 'قارچ'], ['عالللی', 'بود', 'همه', 'چه', 'درست', 'و', 'به', 'اندازه', 'و', 'کیفیت', 'خوب،', 'امیداورم', 'همیشه', 'کیفیتتون', 'خوب', 'باشه', 'ما', 'مشتری', 'همیشگی', 'بشیم'], ['شیرینی', 'وانیلی', 'فقط', 'یک', 'مدل', 'بود', '.']]\n"
          ]
        }
      ],
      "source": [
        "# Tokenize sentences into words\n",
        "from nltk.tokenize import word_tokenize\n",
        "\n",
        "# Tokenize the sentences and create a list of lists\n",
        "comments_train = []\n",
        "\n",
        "for comment in train_data_set['comment']:\n",
        "    tokens = word_tokenize(comment)\n",
        "    comments_train.append(tokens)\n",
        "print(comments_train[:5])"
      ]
    },
    {
      "cell_type": "markdown",
      "metadata": {
        "id": "pF5kyMojN9ih"
      },
      "source": [
        "for test data"
      ]
    },
    {
      "cell_type": "code",
      "execution_count": null,
      "metadata": {
        "id": "n4Pum90yOR8n",
        "colab": {
          "base_uri": "https://localhost:8080/"
        },
        "outputId": "8d6e020c-a3ba-4513-e4d8-aecdbe87191c"
      },
      "outputs": [
        {
          "output_type": "stream",
          "name": "stdout",
          "text": [
            "[['غذا', 'به', 'موقع', 'رسید', 'و', 'برخورد', 'پیک', 'خوب', 'بود'], ['نون', 'فکر', 'کنم', 'مال', 'چهار', 'روز', 'قبل', 'بود', 'کلا', 'نمیشد', 'خورد', 'کراکف', 'رو', 'هم', 'گریل', 'رو', 'بهش', 'نشون', 'داده', 'بودن', 'اصلا', 'از', 'رستوران', 'انتظارم', 'چیز', 'دیگه\\u200cای', 'بود', 'دفعه', 'اولم', 'نبود', 'از', 'این', 'رستوران', 'غذا', 'سفارش', 'دادم', 'اما', 'این', 'بار', 'میتونم', 'بگم', 'افتضاح', 'بود'], ['درب', 'قهوه', 'شکسته', 'بود'], ['قهوه', 'نی', 'نداشت', '.', 'یکی', 'از', 'سفارش\\u200cها', 'عوض', 'شده', 'بود', '.', 'بقیه', 'خوب', 'بود', '.'], ['خیلی', 'پر', 'پنیر', 'بود', 'و', 'اصلا', 'اصلا', 'تند', 'نبود', 'متاسفانه']]\n"
          ]
        }
      ],
      "source": [
        "# Tokenize sentences into words\n",
        "from nltk.tokenize import word_tokenize\n",
        "\n",
        "# Tokenize the sentences and create a list of lists\n",
        "comments_test = []\n",
        "\n",
        "for comment in test_data_set['comment']:\n",
        "    tokens = word_tokenize(comment)\n",
        "    comments_test.append(tokens)\n",
        "print(comments_test[:5])"
      ]
    },
    {
      "cell_type": "markdown",
      "metadata": {
        "id": "Q_IuEsmoLSjs"
      },
      "source": [
        "**b) Creat the bag_of_words**"
      ]
    },
    {
      "cell_type": "markdown",
      "source": [
        "for train"
      ],
      "metadata": {
        "id": "nsZCVqNkuQsM"
      }
    },
    {
      "cell_type": "code",
      "execution_count": null,
      "metadata": {
        "colab": {
          "base_uri": "https://localhost:8080/"
        },
        "id": "gMWSKml3j2Bj",
        "outputId": "661a25d1-48b4-42ef-8274-c031bb0be87d"
      },
      "outputs": [
        {
          "output_type": "stream",
          "name": "stdout",
          "text": [
            "First 10 members in Bag of Words dictionary:\n",
            "[('واقعا', 6295), ('حیف', 364), ('وقت', 528), ('که', 19988), ('بنویسم', 16), ('سرویس', 448), ('دهیتون', 13), ('شده', 10254), ('افتضاح', 1145), ('قرار', 480)]\n",
            "Number of distinct words in bag of words\n",
            "37384\n",
            "Top 10 most frequent words:\n",
            "بود: 58828\n",
            "و: 54008\n",
            ".: 39547\n",
            "به: 20875\n",
            "از: 20149\n",
            "که: 19988\n",
            "خیلی: 17692\n",
            "هم: 16226\n",
            "غذا: 13946\n",
            "!: 13544\n"
          ]
        }
      ],
      "source": [
        "# Creat Bag_of_Words\n",
        "\n",
        "from collections import Counter\n",
        "\n",
        "all_words_train = [word for comment in comments_train for word in comment]\n",
        "\n",
        "# Create a bag-of-words dictionary using Counter\n",
        "bag_of_words_train = dict(Counter(all_words_train))\n",
        "\n",
        "\n",
        "# Display the dictionary\n",
        "print(\"First 10 members in Bag of Words dictionary:\")\n",
        "print(list(bag_of_words_train.items())[:10])\n",
        "print(\"Number of distinct words in bag of words\")\n",
        "print(len(bag_of_words_train))\n",
        "\n",
        "# Display the most 10 frequent words\n",
        "most_common_words_train = Counter(all_words_train).most_common(10)\n",
        "\n",
        "print(\"Top 10 most frequent words:\")\n",
        "for word, frequency in most_common_words_train:\n",
        "    print(f\"{word}: {frequency}\")"
      ]
    },
    {
      "cell_type": "markdown",
      "source": [
        "for test"
      ],
      "metadata": {
        "id": "Zspl7oDsuUqz"
      }
    },
    {
      "cell_type": "code",
      "execution_count": null,
      "metadata": {
        "id": "fBUQ369YLa2f",
        "colab": {
          "base_uri": "https://localhost:8080/"
        },
        "outputId": "9311cf82-b582-485d-9496-7c849747139e"
      },
      "outputs": [
        {
          "output_type": "stream",
          "name": "stdout",
          "text": [
            "First 10 members in Bag of Words dictionary:\n",
            "[('غذا', 1383), ('به', 2050), ('موقع', 171), ('رسید', 610), ('و', 5318), ('برخورد', 93), ('پیک', 392), ('خوب', 1256), ('بود', 5783), ('نون', 272)]\n",
            "Number of distinct words in bag of words\n",
            "9920\n",
            "Top 10 most frequent words:\n",
            "بود: 5783\n",
            "و: 5318\n",
            ".: 4103\n",
            "به: 2050\n",
            "که: 2032\n",
            "از: 1953\n",
            "خیلی: 1774\n",
            "هم: 1612\n",
            "غذا: 1383\n",
            "!: 1293\n"
          ]
        }
      ],
      "source": [
        "# Creat Bag_of_Words\n",
        "\n",
        "from collections import Counter\n",
        "\n",
        "all_words_test = [word for comment in comments_test for word in comment]\n",
        "\n",
        "# Create a bag-of-words dictionary using Counter\n",
        "bag_of_words_test = dict(Counter(all_words_test))\n",
        "\n",
        "\n",
        "# Display the dictionary\n",
        "print(\"First 10 members in Bag of Words dictionary:\")\n",
        "print(list(bag_of_words_test.items())[:10])\n",
        "print(\"Number of distinct words in bag of words\")\n",
        "print(len(bag_of_words_test))\n",
        "\n",
        "# Display the most 10 frequent words\n",
        "most_common_words_test = Counter(all_words_test).most_common(10)\n",
        "\n",
        "print(\"Top 10 most frequent words:\")\n",
        "for word, frequency in most_common_words_test:\n",
        "    print(f\"{word}: {frequency}\")"
      ]
    },
    {
      "cell_type": "markdown",
      "metadata": {
        "id": "CXQ5Er561tCI"
      },
      "source": [
        "# Q1_ Different Feature Extraction Methods\n",
        "Transform the document to the feature vectors of:\n",
        "\n",
        "\n",
        "*   TF\n",
        "\n",
        "*   TF-IDF\n",
        "*   Unigram\n",
        "\n",
        "\n",
        "*   Bigram\n",
        "\n"
      ]
    },
    {
      "cell_type": "markdown",
      "metadata": {
        "id": "CWcRy95zMWD8"
      },
      "source": [
        "**1- TF Feature extraction**"
      ]
    },
    {
      "cell_type": "markdown",
      "source": [
        "**Without sklearn.feature_extraction.text library _ The Colab RAM crashes!!!❌**"
      ],
      "metadata": {
        "id": "vpCSIVmyzgXA"
      }
    },
    {
      "cell_type": "code",
      "source": [
        "'''#Create N-dimensional vectors for each comment based on TF\n",
        "tf_vectors = []\n",
        "\n",
        "for comment_tokens in comments:\n",
        "    # Initialize an N-dimensional vector with zeros\n",
        "    tf_vector = np.zeros(len(bag_of_words))\n",
        "\n",
        "    # Calculate term frequency (TF) for each word in the comment\n",
        "    word_counts = Counter(comment_tokens)\n",
        "\n",
        "    # Populate the vector with the term frequency of each word\n",
        "    for word, count in word_counts.items():\n",
        "        if word in word_indices:\n",
        "            index = word_indices[word]\n",
        "            tf_vector[index] = count\n",
        "\n",
        "    # Append the TF vector to the list\n",
        "    tf_vectors.append(tf_vector)\n",
        "\n",
        "# Convert the list of TF vectors to a NumPy array\n",
        "tf_vectors_array = np.array(tf_vectors)\n",
        "\n",
        "# Display the TF vectors for the first few comments\n",
        "#print(\"TF Vectors for the first  comments:\")\n",
        "#print(tf_vectors_array[0, :])'''"
      ],
      "metadata": {
        "id": "CQL35sC8zXiO"
      },
      "execution_count": null,
      "outputs": []
    },
    {
      "cell_type": "markdown",
      "source": [
        "**With sklearn.feature_extraction.text library**"
      ],
      "metadata": {
        "id": "bWxtTHg3zy2a"
      }
    },
    {
      "cell_type": "code",
      "execution_count": null,
      "metadata": {
        "colab": {
          "base_uri": "https://localhost:8080/"
        },
        "id": "-vaZKkuAIKDO",
        "outputId": "28b57c79-717d-4087-9a9a-a5685b6a7c95"
      },
      "outputs": [
        {
          "output_type": "stream",
          "name": "stderr",
          "text": [
            "/usr/local/lib/python3.10/dist-packages/sklearn/feature_extraction/text.py:1380: UserWarning: Upper case characters found in vocabulary while 'lowercase' is True. These entries will not be matched with any documents\n",
            "  warnings.warn(\n"
          ]
        },
        {
          "output_type": "stream",
          "name": "stdout",
          "text": [
            "[[1 1 1 ... 0 0 0]\n",
            " [0 0 0 ... 0 0 0]\n",
            " [0 0 0 ... 0 0 0]\n",
            " ...\n",
            " [0 0 0 ... 0 0 0]\n",
            " [0 0 0 ... 0 0 0]\n",
            " [0 0 0 ... 0 0 0]]\n",
            "['واقعا' 'حیف' 'وقت' ... 'ایکه' 'وخورد' 'بیشتر؛']\n",
            "(63700, 37384)\n"
          ]
        }
      ],
      "source": [
        "# TF Feature extraction\n",
        "from nltk.tokenize import word_tokenize\n",
        "from collections import Counter\n",
        "import pandas as pd\n",
        "import numpy as np\n",
        "from sklearn.feature_extraction.text import CountVectorizer\n",
        "\n",
        "# Create a bag-of-words dictionary with unique words and their indices\n",
        "word_indices = {word: index for index, word in enumerate(bag_of_words_train)}\n",
        "#print(word_indices)\n",
        "\n",
        "# Combine the tokenized words back into sentences for IdfVectorizer\n",
        "preprocessed_comments = [' '.join(tokens) for tokens in comments_train]\n",
        "\n",
        "# Initialize the Idf vectorizer\n",
        "vectorizer = CountVectorizer(vocabulary=word_indices)\n",
        "tf_vectors = vectorizer.fit_transform(preprocessed_comments)\n",
        "\n",
        "# Convert the TF-IDF vectors to a dense NumPy array\n",
        "tf_vectors_array = tf_vectors.toarray()\n",
        "print(tf_vectors_array)\n",
        "\n",
        "features = vectorizer.get_feature_names_out()\n",
        "print(features)\n",
        "\n",
        "print(tf_vectors_array.shape)"
      ]
    },
    {
      "cell_type": "markdown",
      "metadata": {
        "id": "j9-ccezNMk4M"
      },
      "source": [
        "**2- TF-IDF Feature extraction**"
      ]
    },
    {
      "cell_type": "code",
      "execution_count": null,
      "metadata": {
        "colab": {
          "base_uri": "https://localhost:8080/"
        },
        "id": "s8XQh9wSkalp",
        "outputId": "17304646-f597-44fd-dbe8-e0578133b182"
      },
      "outputs": [
        {
          "output_type": "stream",
          "name": "stderr",
          "text": [
            "/usr/local/lib/python3.10/dist-packages/sklearn/feature_extraction/text.py:1380: UserWarning: Upper case characters found in vocabulary while 'lowercase' is True. These entries will not be matched with any documents\n",
            "  warnings.warn(\n"
          ]
        },
        {
          "output_type": "stream",
          "name": "stdout",
          "text": [
            "(63700, 37384)\n"
          ]
        }
      ],
      "source": [
        "# TF-IDF Feature Extraction\n",
        "\n",
        "from sklearn.feature_extraction.text import TfidfVectorizer\n",
        "import pandas as pd\n",
        "\n",
        "\n",
        "#Create a bag-of-words dictionary with unique words and their indices\n",
        "word_indices = {word: index for index, word in enumerate(bag_of_words_train)}\n",
        "\n",
        "\n",
        "# Combine the tokenized words back into sentences for TfidfVectorizer\n",
        "preprocessed_comments = [' '.join(tokens) for tokens in comments_train]\n",
        "\n",
        "# Initialize the TfidfVectorizer\n",
        "vectorizer = TfidfVectorizer(vocabulary=word_indices, sublinear_tf=True, smooth_idf=True, norm='l2')\n",
        "\n",
        "# Fit and transform the preprocessed comments\n",
        "tfidf_vectors = vectorizer.fit_transform(preprocessed_comments)\n",
        "\n",
        "# Convert the TF-IDF vectors to a dense NumPy array\n",
        "tfidf_vectors_array = tfidf_vectors.toarray()\n",
        "\n",
        "print(tfidf_vectors_array.shape)"
      ]
    },
    {
      "cell_type": "markdown",
      "source": [
        "**3 - Unigram**"
      ],
      "metadata": {
        "id": "JFee_z5E3aT7"
      }
    },
    {
      "cell_type": "code",
      "execution_count": null,
      "metadata": {
        "colab": {
          "base_uri": "https://localhost:8080/"
        },
        "id": "iuG3rpR_92Ys",
        "outputId": "6645ce02-015d-427d-b907-6feac39a038f"
      },
      "outputs": [
        {
          "output_type": "stream",
          "name": "stdout",
          "text": [
            "(63700, 28342)\n"
          ]
        }
      ],
      "source": [
        "from sklearn.feature_extraction.text import CountVectorizer\n",
        "import pandas as pd\n",
        "\n",
        "# Combine the tokenized words back into sentences for Unigram CountVectorizer\n",
        "preprocessed_comments_unigram = [' '.join(tokens) for tokens in comments_train]\n",
        "\n",
        "# Initialize the CountVectorizer for Unigram\n",
        "unigram_vectorizer = CountVectorizer()\n",
        "unigram_vectors = unigram_vectorizer.fit_transform(preprocessed_comments_unigram)\n",
        "\n",
        "# Convert the unigram vectors to a dense NumPy array\n",
        "unigram_vectors_array = unigram_vectors.toarray()\n",
        "\n",
        "print(unigram_vectors_array.shape)"
      ]
    },
    {
      "cell_type": "markdown",
      "source": [
        "**4 - Bigram**"
      ],
      "metadata": {
        "id": "_BMl2bV55kbk"
      }
    },
    {
      "cell_type": "code",
      "source": [
        "from sklearn.feature_extraction.text import CountVectorizer\n",
        "import pandas as pd\n",
        "\n",
        "# Combine the tokenized words back into sentences for Bigram CountVectorizer\n",
        "preprocessed_comments_bigram = [' '.join(tokens) for tokens in comments_train]\n",
        "\n",
        "# Initialize the CountVectorizer for Bigram\n",
        "bigram_vectorizer = CountVectorizer(ngram_range=(2, 2))\n",
        "bigram_vectors = bigram_vectorizer.fit_transform(preprocessed_comments_bigram)\n",
        "\n",
        "# Convert the bigram vectors to a dense NumPy array\n",
        "bigram_vectors_array = bigram_vectors.toarray()\n",
        "\n",
        "print(bigram_vectors_array.shape)"
      ],
      "metadata": {
        "colab": {
          "base_uri": "https://localhost:8080/"
        },
        "id": "7-BO3J8X5ji4",
        "outputId": "81ba7cc5-4da2-435b-d0f4-85aabc14aa81"
      },
      "execution_count": null,
      "outputs": [
        {
          "output_type": "stream",
          "name": "stdout",
          "text": [
            "(63700, 313084)\n"
          ]
        }
      ]
    },
    {
      "cell_type": "markdown",
      "metadata": {
        "id": "mazP6k0wkV-e"
      },
      "source": [
        "# Make Data Ready for Training"
      ]
    },
    {
      "cell_type": "markdown",
      "metadata": {
        "id": "EuLkr5iSknpG"
      },
      "source": [
        "**Build a set of inputs  X  and targets y from train data**"
      ]
    },
    {
      "cell_type": "code",
      "execution_count": null,
      "metadata": {
        "colab": {
          "base_uri": "https://localhost:8080/"
        },
        "id": "Dp-xDg3jgG3e",
        "outputId": "93fe5e85-7947-43e5-cb3c-de33d7035fa4"
      },
      "outputs": [
        {
          "output_type": "stream",
          "name": "stdout",
          "text": [
            "shapes of X:  (63700, 37384)\n",
            "shapes of y:  (63700,)\n"
          ]
        }
      ],
      "source": [
        "# Build inputs \"X\" and their labels_id \"y\" for training dataset\n",
        "\n",
        "# Inputs X\n",
        "X = tfidf_vectors_array\n",
        "print(\"shapes of X: \", X.shape)\n",
        "\n",
        "# Labels_id y\n",
        "labels = []\n",
        "for label_id in train_data_set['label_id']:\n",
        "  labels.append(label_id)\n",
        "y = np.array(labels)\n",
        "print(\"shapes of y: \", y.shape)"
      ]
    },
    {
      "cell_type": "markdown",
      "metadata": {
        "id": "yhTxpG98wPlF"
      },
      "source": [
        "**Split the data into training set and validation set**  "
      ]
    },
    {
      "cell_type": "markdown",
      "metadata": {
        "id": "PwAU3sW2ghjb"
      },
      "source": [
        "\n",
        "\n",
        "1. **with entire data set in train_ The Colab RAM crashes!!!** ❌\n",
        "\n",
        "\n"
      ]
    },
    {
      "cell_type": "code",
      "execution_count": null,
      "metadata": {
        "id": "DTLr_xExC1ps"
      },
      "outputs": [],
      "source": [
        "# 80% of the train data set : training data\n",
        "# 20% of the train data set : validation data\n",
        "\n",
        "# import train_test_split function\n",
        "from sklearn.model_selection import train_test_split\n",
        "\n",
        "# Split the data into training set and validation set\n",
        "X_train, X_val, y_train, y_val = train_test_split(X, y, test_size=0.2, random_state=42)  # random_state = 42 for reproduciblity\n",
        "\n",
        "# Display the shapes of the resulting sets\n",
        "print(\"Shape of X_train:\", X_train.shape)\n",
        "print(\"Shape of y_train:\", y_train.shape)\n",
        "print(\"Shape of X_val:\", X_val.shape)\n",
        "print(\"Shape of y_val:\", y_val.shape)"
      ]
    },
    {
      "cell_type": "markdown",
      "metadata": {
        "id": "U7qUt0lbuh5b"
      },
      "source": [
        "**2**.   **with loading 64 Batch sizes use data_generator function\n",
        "_ The Colab RAM crashes!!!**❌"
      ]
    },
    {
      "cell_type": "code",
      "execution_count": null,
      "metadata": {
        "id": "KqD4qvY2mtGD"
      },
      "outputs": [],
      "source": [
        "from sklearn.model_selection import train_test_split\n",
        "\n",
        "# data is loaded into a generator function, load_data_generator()\n",
        "def load_data_generator(X, y, batch_size):\n",
        "    num_samples = X.shape[0]\n",
        "    indices = np.arange(num_samples)\n",
        "    while True:\n",
        "        np.random.shuffle(indices)\n",
        "\n",
        "        for i in range(0, num_samples, batch_size):\n",
        "            batch_indices = indices[i:i+batch_size]\n",
        "            yield X[batch_indices], y[batch_indices]\n",
        "\n",
        "# Split the data into training set and validation set\n",
        "X_train, X_val, y_train, y_val = train_test_split(X, y, test_size=0.2, random_state=42)\n",
        "\n",
        "batch_size = 64\n",
        "train_generator = load_data_generator(X_train, y_train, batch_size)\n",
        "val_generator = load_data_generator(X_val, y_val, batch_size)"
      ]
    },
    {
      "cell_type": "markdown",
      "metadata": {
        "id": "guJX2fLIv6tX"
      },
      "source": [
        "3.  **Use Sparse Matrix Representations\n",
        "_ The Colab RAM dosen't crashe ✅**"
      ]
    },
    {
      "cell_type": "code",
      "execution_count": null,
      "metadata": {
        "id": "LeTvxJTApB_0"
      },
      "outputs": [],
      "source": [
        "from scipy.sparse import csr_matrix\n",
        "\n",
        "# Convert X Data to Sparse Matrix\n",
        "X_sparse = csr_matrix(X)"
      ]
    },
    {
      "cell_type": "code",
      "execution_count": null,
      "metadata": {
        "colab": {
          "base_uri": "https://localhost:8080/"
        },
        "id": "o6vb2NGAxZ54",
        "outputId": "1f456ede-5f2d-48f3-e03b-2f8773a7ec29"
      },
      "outputs": [
        {
          "name": "stdout",
          "output_type": "stream",
          "text": [
            "Shape of X_train: (50960, 37384)\n",
            "Shape of y_train: (50960,)\n",
            "Shape of X_val: (12740, 37384)\n",
            "Shape of y_val: (12740,)\n",
            "  (0, 3)\t0.09580689094489041\n",
            "  (0, 7)\t0.11497623751891407\n",
            "  (0, 10)\t0.0717878389246128\n",
            "  (0, 18)\t0.09347535104106225\n",
            "  (0, 35)\t0.12130893463361782\n",
            "  (0, 38)\t0.10820074500905555\n",
            "  (0, 92)\t0.07099678660014698\n",
            "  (0, 93)\t0.09635077161233119\n",
            "  (0, 94)\t0.1020435533614165\n",
            "  (0, 139)\t0.08322837704311693\n",
            "  (0, 218)\t0.09701937744009079\n",
            "  (0, 227)\t0.0939280687023579\n",
            "  (0, 288)\t0.13537655751606428\n",
            "  (0, 393)\t0.11093182950137027\n",
            "  (0, 397)\t0.13322663035715634\n",
            "  (0, 448)\t0.11321422120217543\n",
            "  (0, 461)\t0.1484294614875445\n",
            "  (0, 549)\t0.21777809994036998\n",
            "  (0, 550)\t0.16395885034401608\n",
            "  (0, 560)\t0.16246009306828346\n",
            "  (0, 589)\t0.11808937222526081\n",
            "  (0, 615)\t0.10896447972174175\n",
            "  (0, 742)\t0.11385571031366522\n",
            "  (0, 768)\t0.15607753221418974\n",
            "  (0, 792)\t0.12711640771823834\n",
            "  (0, 829)\t0.2727038943348301\n",
            "  (0, 1048)\t0.1904976951005151\n",
            "  (0, 1127)\t0.18271996641260593\n",
            "  (0, 1678)\t0.17692568746509368\n",
            "  (0, 1759)\t0.1270481973281094\n",
            "  (0, 1946)\t0.17546757851783787\n",
            "  (0, 2156)\t0.17692568746509368\n",
            "  (0, 2376)\t0.1668575919695045\n",
            "  (0, 2394)\t0.16360866373721103\n",
            "  (0, 2889)\t0.16888409829634843\n",
            "  (0, 6692)\t0.22333898586252954\n",
            "  (0, 6710)\t0.23502901006887664\n",
            "  (0, 8466)\t0.22333898586252954\n",
            "  (0, 14919)\t0.23502901006887664\n",
            "  (0, 17218)\t0.09755742613946418\n",
            "  (0, 33678)\t0.26017027873359\n"
          ]
        }
      ],
      "source": [
        "from sklearn.model_selection import train_test_split\n",
        "\n",
        "# Splitting the data into training and validation sets\n",
        "X_train, X_val, y_train, y_val = train_test_split(X_sparse, y, test_size=0.2, random_state=42)\n",
        "\n",
        "# Display the shapes of the resulting sets\n",
        "print(\"Shape of X_train:\", X_train.shape)\n",
        "print(\"Shape of y_train:\", y_train.shape)\n",
        "print(\"Shape of X_val:\", X_val.shape)\n",
        "print(\"Shape of y_val:\", y_val.shape)\n",
        "#print(X_train[0])"
      ]
    },
    {
      "cell_type": "markdown",
      "metadata": {
        "id": "Vn6u4ebSPxfN"
      },
      "source": [
        "**Normalize the features  of $\\boldsymbol{X}_\\text{train}$ and $\\boldsymbol{X}_\\text{val}$**"
      ]
    },
    {
      "cell_type": "code",
      "execution_count": null,
      "metadata": {
        "id": "zhlJGDFHCVIj"
      },
      "outputs": [],
      "source": [
        "from sklearn.preprocessing import StandardScaler\n",
        "\n",
        "# Initialize the StandardScaler\n",
        "scaler = StandardScaler(with_mean=False)\n",
        "\n",
        "# Fit the scaler on the training data and transform X_train\n",
        "X_train_scaled = scaler.fit_transform(X_train)\n",
        "\n",
        "# Use the same scaler to transform X_val\n",
        "X_val_scaled = scaler.transform(X_val)"
      ]
    },
    {
      "cell_type": "markdown",
      "metadata": {
        "id": "qtzVF4JbPxfh"
      },
      "source": [
        "<div style=\"border-bottom: 3px solid black; margin-bottom:5px\"></div>\n",
        "<div style=\"border-bottom: 3px solid black\"></div>\n",
        "\n",
        "# Q2 &mdash; Train SVM classifier\n"
      ]
    },
    {
      "cell_type": "markdown",
      "metadata": {
        "id": "ExEX52EEPxfi"
      },
      "source": [
        "<div style=\"border-bottom: 1px solid black;\"></div>\n",
        "\n",
        "### *Q2a &mdash;  Write train_estimators function that trains multiple estimators\n",
        "\n",
        "\n",
        "\n",
        "**train_estimators function.** The idea of this function is to make it easy to train multiple versions of an estimator where one hyperparameter (specified by *param_name*) gets to take on a different value (specified by *param_vals*) for each instance."
      ]
    },
    {
      "cell_type": "code",
      "execution_count": null,
      "metadata": {
        "id": "1lvHzLL1AsT9"
      },
      "outputs": [],
      "source": [
        "from sklearn.tree import DecisionTreeClassifier\n",
        "\n",
        "def train_estimators(base_estimator, X, y, param_name, param_vals):\n",
        "    \"\"\"\n",
        "    Train models with different parameter values and return a list of trained models.\n",
        "\n",
        "    Parameters:\n",
        "    - base_estimator: Base classifier (e.g., DecisionTreeClassifier)\n",
        "    - X: Input features\n",
        "    - y: Target labels\n",
        "    - param_name: Name of the parameter to vary\n",
        "    - param_vals: List of parameter values to try\n",
        "\n",
        "    Returns:\n",
        "    - List of trained models\n",
        "    \"\"\"\n",
        "    models = []\n",
        "\n",
        "    for param_val in param_vals:\n",
        "        # Create a copy of the base estimator with the specified parameter value\n",
        "        model = base_estimator(**{param_name: param_val})\n",
        "\n",
        "        # Train the model on the data\n",
        "        model.fit(X, y)\n",
        "\n",
        "        # Append the trained model to the list\n",
        "        models.append(model)\n",
        "\n",
        "    return models"
      ]
    },
    {
      "cell_type": "markdown",
      "metadata": {
        "id": "qfl-SPNePxfv"
      },
      "source": [
        "**Train SVM classifiers (*SVC*)** with **Linear** Kernel:"
      ]
    },
    {
      "cell_type": "code",
      "execution_count": null,
      "metadata": {
        "colab": {
          "background_save": true
        },
        "id": "VTLo60aqPxfv",
        "outputId": "f3770783-83d2-4e90-ec70-028faf2c1ec0"
      },
      "outputs": [
        {
          "ename": "KeyboardInterrupt",
          "evalue": "ignored",
          "output_type": "error",
          "traceback": [
            "\u001b[0;31m---------------------------------------------------------------------------\u001b[0m",
            "\u001b[0;31mKeyboardInterrupt\u001b[0m                         Traceback (most recent call last)",
            "\u001b[0;32m<timed exec>\u001b[0m in \u001b[0;36m<module>\u001b[0;34m\u001b[0m\n",
            "\u001b[0;32m<ipython-input-23-d3d11a60f816>\u001b[0m in \u001b[0;36mtrain_estimators\u001b[0;34m(base_estimator, X, y, param_name, param_vals)\u001b[0m\n\u001b[1;32m     22\u001b[0m \u001b[0;34m\u001b[0m\u001b[0m\n\u001b[1;32m     23\u001b[0m         \u001b[0;31m# Train the model on the data\u001b[0m\u001b[0;34m\u001b[0m\u001b[0;34m\u001b[0m\u001b[0m\n\u001b[0;32m---> 24\u001b[0;31m         \u001b[0mmodel\u001b[0m\u001b[0;34m.\u001b[0m\u001b[0mfit\u001b[0m\u001b[0;34m(\u001b[0m\u001b[0mX\u001b[0m\u001b[0;34m,\u001b[0m \u001b[0my\u001b[0m\u001b[0;34m)\u001b[0m\u001b[0;34m\u001b[0m\u001b[0;34m\u001b[0m\u001b[0m\n\u001b[0m\u001b[1;32m     25\u001b[0m \u001b[0;34m\u001b[0m\u001b[0m\n\u001b[1;32m     26\u001b[0m         \u001b[0;31m# Append the trained model to the list\u001b[0m\u001b[0;34m\u001b[0m\u001b[0;34m\u001b[0m\u001b[0m\n",
            "\u001b[0;32m/usr/local/lib/python3.10/dist-packages/sklearn/svm/_base.py\u001b[0m in \u001b[0;36mfit\u001b[0;34m(self, X, y, sample_weight)\u001b[0m\n\u001b[1;32m    250\u001b[0m \u001b[0;34m\u001b[0m\u001b[0m\n\u001b[1;32m    251\u001b[0m         \u001b[0mseed\u001b[0m \u001b[0;34m=\u001b[0m \u001b[0mrnd\u001b[0m\u001b[0;34m.\u001b[0m\u001b[0mrandint\u001b[0m\u001b[0;34m(\u001b[0m\u001b[0mnp\u001b[0m\u001b[0;34m.\u001b[0m\u001b[0miinfo\u001b[0m\u001b[0;34m(\u001b[0m\u001b[0;34m\"i\"\u001b[0m\u001b[0;34m)\u001b[0m\u001b[0;34m.\u001b[0m\u001b[0mmax\u001b[0m\u001b[0;34m)\u001b[0m\u001b[0;34m\u001b[0m\u001b[0;34m\u001b[0m\u001b[0m\n\u001b[0;32m--> 252\u001b[0;31m         \u001b[0mfit\u001b[0m\u001b[0;34m(\u001b[0m\u001b[0mX\u001b[0m\u001b[0;34m,\u001b[0m \u001b[0my\u001b[0m\u001b[0;34m,\u001b[0m \u001b[0msample_weight\u001b[0m\u001b[0;34m,\u001b[0m \u001b[0msolver_type\u001b[0m\u001b[0;34m,\u001b[0m \u001b[0mkernel\u001b[0m\u001b[0;34m,\u001b[0m \u001b[0mrandom_seed\u001b[0m\u001b[0;34m=\u001b[0m\u001b[0mseed\u001b[0m\u001b[0;34m)\u001b[0m\u001b[0;34m\u001b[0m\u001b[0;34m\u001b[0m\u001b[0m\n\u001b[0m\u001b[1;32m    253\u001b[0m         \u001b[0;31m# see comment on the other call to np.iinfo in this file\u001b[0m\u001b[0;34m\u001b[0m\u001b[0;34m\u001b[0m\u001b[0m\n\u001b[1;32m    254\u001b[0m \u001b[0;34m\u001b[0m\u001b[0m\n",
            "\u001b[0;32m/usr/local/lib/python3.10/dist-packages/sklearn/svm/_base.py\u001b[0m in \u001b[0;36m_sparse_fit\u001b[0;34m(self, X, y, sample_weight, solver_type, kernel, random_seed)\u001b[0m\n\u001b[1;32m    371\u001b[0m             \u001b[0mself\u001b[0m\u001b[0;34m.\u001b[0m\u001b[0mfit_status_\u001b[0m\u001b[0;34m,\u001b[0m\u001b[0;34m\u001b[0m\u001b[0;34m\u001b[0m\u001b[0m\n\u001b[1;32m    372\u001b[0m             \u001b[0mself\u001b[0m\u001b[0;34m.\u001b[0m\u001b[0m_num_iter\u001b[0m\u001b[0;34m,\u001b[0m\u001b[0;34m\u001b[0m\u001b[0;34m\u001b[0m\u001b[0m\n\u001b[0;32m--> 373\u001b[0;31m         \u001b[0;34m)\u001b[0m \u001b[0;34m=\u001b[0m \u001b[0mlibsvm_sparse\u001b[0m\u001b[0;34m.\u001b[0m\u001b[0mlibsvm_sparse_train\u001b[0m\u001b[0;34m(\u001b[0m\u001b[0;34m\u001b[0m\u001b[0;34m\u001b[0m\u001b[0m\n\u001b[0m\u001b[1;32m    374\u001b[0m             \u001b[0mX\u001b[0m\u001b[0;34m.\u001b[0m\u001b[0mshape\u001b[0m\u001b[0;34m[\u001b[0m\u001b[0;36m1\u001b[0m\u001b[0;34m]\u001b[0m\u001b[0;34m,\u001b[0m\u001b[0;34m\u001b[0m\u001b[0;34m\u001b[0m\u001b[0m\n\u001b[1;32m    375\u001b[0m             \u001b[0mX\u001b[0m\u001b[0;34m.\u001b[0m\u001b[0mdata\u001b[0m\u001b[0;34m,\u001b[0m\u001b[0;34m\u001b[0m\u001b[0;34m\u001b[0m\u001b[0m\n",
            "\u001b[0;32msklearn/svm/_libsvm_sparse.pyx\u001b[0m in \u001b[0;36msklearn.svm._libsvm_sparse.libsvm_sparse_train\u001b[0;34m()\u001b[0m\n",
            "\u001b[0;32m/usr/local/lib/python3.10/dist-packages/scipy/sparse/_compressed.py\u001b[0m in \u001b[0;36m__init__\u001b[0;34m(self, arg1, shape, dtype, copy)\u001b[0m\n\u001b[1;32m     23\u001b[0m     \u001b[0;34m\"\"\"base matrix class for compressed row- and column-oriented matrices\"\"\"\u001b[0m\u001b[0;34m\u001b[0m\u001b[0;34m\u001b[0m\u001b[0m\n\u001b[1;32m     24\u001b[0m \u001b[0;34m\u001b[0m\u001b[0m\n\u001b[0;32m---> 25\u001b[0;31m     \u001b[0;32mdef\u001b[0m \u001b[0m__init__\u001b[0m\u001b[0;34m(\u001b[0m\u001b[0mself\u001b[0m\u001b[0;34m,\u001b[0m \u001b[0marg1\u001b[0m\u001b[0;34m,\u001b[0m \u001b[0mshape\u001b[0m\u001b[0;34m=\u001b[0m\u001b[0;32mNone\u001b[0m\u001b[0;34m,\u001b[0m \u001b[0mdtype\u001b[0m\u001b[0;34m=\u001b[0m\u001b[0;32mNone\u001b[0m\u001b[0;34m,\u001b[0m \u001b[0mcopy\u001b[0m\u001b[0;34m=\u001b[0m\u001b[0;32mFalse\u001b[0m\u001b[0;34m)\u001b[0m\u001b[0;34m:\u001b[0m\u001b[0;34m\u001b[0m\u001b[0;34m\u001b[0m\u001b[0m\n\u001b[0m\u001b[1;32m     26\u001b[0m         \u001b[0m_data_matrix\u001b[0m\u001b[0;34m.\u001b[0m\u001b[0m__init__\u001b[0m\u001b[0;34m(\u001b[0m\u001b[0mself\u001b[0m\u001b[0;34m)\u001b[0m\u001b[0;34m\u001b[0m\u001b[0;34m\u001b[0m\u001b[0m\n\u001b[1;32m     27\u001b[0m \u001b[0;34m\u001b[0m\u001b[0m\n",
            "\u001b[0;31mKeyboardInterrupt\u001b[0m: "
          ]
        }
      ],
      "source": [
        "%%time\n",
        "from sklearn.svm import SVC\n",
        "\n",
        "# Create an instance SVC with 'linear' criterion\n",
        "SVC_estimator_linear = SVC(kernel='linear', gamma=0.001, max_iter=10000, random_state=0)\n",
        "\n",
        "# Use the instance in SVC_estimators function with param_name = 'C' and param_vals = [0.01, 0.1, 1, 10, 100, 1000]\n",
        "SVC_param_name = 'C'\n",
        "SVC_param_vals = [0.01, 0.1, 1, 10, 100, 1000]\n",
        "\n",
        "SVC_linear_estimators = train_estimators(SVC_estimator_linear.__class__, X_train_scaled, y_train, SVC_param_name, SVC_param_vals)\n",
        "\n",
        "\n",
        "# Print the list of trained models\n",
        "print('Training SVCClassifier with linear criterion')\n",
        "print(SVC_linear_estimators)"
      ]
    },
    {
      "cell_type": "code",
      "execution_count": null,
      "metadata": {
        "id": "mC7GfyGXF1iv"
      },
      "outputs": [],
      "source": [
        "%%time\n",
        "from sklearn.svm import SVC\n",
        "# Create an instance of  SVC with \"rbf\" Kernel\n",
        "SVC_estimator_rbf = SVC(kernel='rbf', gamma=0.001, max_iter=10000, random_state=0)\n",
        "\n",
        "SVC_rbf_estimators = train_estimators(SVC_estimator_rbf.__class__, X_train_scaled, y_train, SVC_param_name, SVC_param_vals)\n",
        "\n",
        "# Print the list of trained models\n",
        "print('Training SVCClassifier with rbf criterion')\n",
        "print(SVC_rbf_estimators)"
      ]
    },
    {
      "cell_type": "markdown",
      "metadata": {
        "id": "Q6uO8-VDrJvZ"
      },
      "source": [
        "<div style=\"border-bottom: 3px solid black; margin-bottom:5px\"></div>\n",
        "<div style=\"border-bottom: 3px solid black\"></div>\n",
        "\n",
        "# Q3 &mdash; More Experiment\n"
      ]
    },
    {
      "cell_type": "markdown",
      "metadata": {
        "id": "Ek3vbsMwrJva"
      },
      "source": [
        "<div style=\"border-bottom: 1px solid black;\"></div>\n",
        "\n",
        "### Including 9 steps"
      ]
    },
    {
      "cell_type": "markdown",
      "source": [
        "**Step 1 : Create a new selected training set by randomly selecting 10% of the train data**"
      ],
      "metadata": {
        "id": "GKE5gCu_rrUY"
      }
    },
    {
      "cell_type": "code",
      "execution_count": null,
      "metadata": {
        "colab": {
          "base_uri": "https://localhost:8080/"
        },
        "id": "ToPSu7wDrJva",
        "outputId": "6966b244-4fb8-4077-ebea-774f7862e324"
      },
      "outputs": [
        {
          "output_type": "stream",
          "name": "stdout",
          "text": [
            "Query data shape: (6370, 3)\n"
          ]
        }
      ],
      "source": [
        "import pandas as pd\n",
        "\n",
        "# Randomly select 10% of the data\n",
        "query_samples = train_data_set.sample(frac=0.1, random_state=42)\n",
        "\n",
        "# Display the shape of the query_samples DataFrame\n",
        "print(\"Query data shape:\", query_samples.shape)\n",
        "\n",
        "# Save the query_samples to a new CSV file\n",
        "query_samples.to_csv('sampled_data.csv', index=False)"
      ]
    },
    {
      "cell_type": "markdown",
      "source": [
        "**Step 2 : Remove the selected samples from the initial training data**"
      ],
      "metadata": {
        "id": "DI4aJ0J4II6o"
      }
    },
    {
      "cell_type": "code",
      "source": [
        "remaining_data = train_data_set[~train_data_set.index.isin(query_samples.index)]"
      ],
      "metadata": {
        "id": "fb1qeYCqIX9-"
      },
      "execution_count": null,
      "outputs": []
    },
    {
      "cell_type": "markdown",
      "source": [
        "**Step 3 : Use IDF-TF to convert text to feature vector**"
      ],
      "metadata": {
        "id": "y7qB_MUfIJJf"
      }
    },
    {
      "cell_type": "code",
      "source": [
        "vectorizer = TfidfVectorizer()\n",
        "X_remaining_data = vectorizer.fit_transform(remaining_data['comment'])\n",
        "X_query_samples = vectorizer.transform(query_samples['comment'])"
      ],
      "metadata": {
        "id": "wrBqLtMEJOr-"
      },
      "execution_count": null,
      "outputs": []
    },
    {
      "cell_type": "markdown",
      "source": [
        "**Step 4 :create a set to which we add the samples**"
      ],
      "metadata": {
        "id": "GNk3-dCYIJRk"
      }
    },
    {
      "cell_type": "code",
      "source": [
        "class_0_set = remaining_data[remaining_data['label_id'] == 0]\n",
        "class_1_set = remaining_data[remaining_data['label_id'] == 1]"
      ],
      "metadata": {
        "id": "WjP5bGWnKnld"
      },
      "execution_count": null,
      "outputs": []
    },
    {
      "cell_type": "markdown",
      "source": [
        "**Step 5 : Singular Value Decomposition (SVD)**"
      ],
      "metadata": {
        "id": "MiBMEYX8IJen"
      }
    },
    {
      "cell_type": "code",
      "source": [
        "from sklearn.decomposition import TruncatedSVD\n",
        "n_components = 100\n",
        "svd = TruncatedSVD(n_components=n_components, random_state=42)\n",
        "svd.fit(X_query_samples)\n",
        "X_query_samples_svd = svd.transform(X_query_samples)\n",
        "X_remaining_data_svd = svd.transform(X_remaining_data)"
      ],
      "metadata": {
        "id": "x1iIcojJKoGK"
      },
      "execution_count": null,
      "outputs": []
    },
    {
      "cell_type": "markdown",
      "source": [
        "**Step 6 : cosine similarity between matrices**"
      ],
      "metadata": {
        "id": "foUNezWMIJo8"
      }
    },
    {
      "cell_type": "code",
      "source": [
        "from sklearn.metrics.pairwise import cosine_similarity\n",
        "cosine_sim = cosine_similarity(X_query_samples_svd, X_remaining_data_svd)"
      ],
      "metadata": {
        "id": "tVXD_L94KooA"
      },
      "execution_count": null,
      "outputs": []
    },
    {
      "cell_type": "markdown",
      "source": [
        "**Step 7 : Remove pairs with a similarity of more than 55%**"
      ],
      "metadata": {
        "id": "r6AgNadfJ-tO"
      }
    },
    {
      "cell_type": "code",
      "source": [
        "similar_pairs = np.argwhere(cosine_sim > 0.55)\n",
        "remaining_data = remaining_data.drop(remaining_data.index[similar_pairs[:, 1]])"
      ],
      "metadata": {
        "id": "_MMmdJoiKpar"
      },
      "execution_count": null,
      "outputs": []
    },
    {
      "cell_type": "markdown",
      "source": [
        "**Step 8 : new training set**"
      ],
      "metadata": {
        "id": "BUi8gOSvJ-2Q"
      }
    },
    {
      "cell_type": "code",
      "source": [
        "new_training_set = pd.concat([query_samples, remaining_data])"
      ],
      "metadata": {
        "id": "iCT7-2C2KqAB"
      },
      "execution_count": null,
      "outputs": []
    },
    {
      "cell_type": "markdown",
      "source": [
        "**Step 9 : TF-IDF**"
      ],
      "metadata": {
        "id": "MjOvwjenJ_Ws"
      }
    },
    {
      "cell_type": "code",
      "source": [
        "X_new_training_set = vectorizer.transform(new_training_set['comment'])"
      ],
      "metadata": {
        "id": "YUjYCjK9Kqx_"
      },
      "execution_count": null,
      "outputs": []
    },
    {
      "cell_type": "markdown",
      "source": [
        "**Train SVM**"
      ],
      "metadata": {
        "id": "Vs7YQBA8KdNM"
      }
    },
    {
      "cell_type": "code",
      "source": [
        "from sklearn.svm import SVC\n",
        "from sklearn.preprocessing import MaxAbsScaler\n",
        "from sklearn.pipeline import make_pipeline\n",
        "# Train SVM model with different kernels\n",
        "kernels = ['linear', 'poly', 'rbf', 'sigmoid']\n",
        "\n",
        "for kernel in kernels:\n",
        "    model = make_pipeline(MaxAbsScaler(), SVC(kernel=kernel))\n",
        "    model.fit(X_new_training_set, new_training_set['label_id'])"
      ],
      "metadata": {
        "id": "YiBUxho-KryR"
      },
      "execution_count": null,
      "outputs": []
    },
    {
      "cell_type": "markdown",
      "source": [
        "**Results**"
      ],
      "metadata": {
        "id": "E91vcw8XOGK0"
      }
    },
    {
      "cell_type": "code",
      "source": [
        "from sklearn.metrics import confusion_matrix, accuracy_score, precision_score, recall_score\n",
        "import matplotlib.pyplot as plt\n",
        "\n",
        "#TF-IDF vectors and labels for the test set\n",
        "X_test = vectorizer.transform(test_data_set['comment'])\n",
        "y_test = test_data_set['label_id']\n",
        "\n",
        "# Dictionary to store evaluation metrics for each kernel\n",
        "eval_metrics = {}\n",
        "\n",
        "# Train and evaluate each SVM model with different kernels\n",
        "for kernel in kernels:\n",
        "    model = make_pipeline(MaxAbsScaler(), SVC(kernel=kernel, random_state=42))\n",
        "    model.fit(X_new_training_set, new_training_set['label_id'])\n",
        "\n",
        "    # Evaluate the model on the test set\n",
        "    y_pred = model.predict(X_test)\n",
        "\n",
        "    # Calculate evaluation metrics\n",
        "    accuracy = accuracy_score(y_test, y_pred)\n",
        "    precision = precision_score(y_test, y_pred)\n",
        "    recall = recall_score(y_test, y_pred)\n",
        "\n",
        "    # Store metrics in the dictionary\n",
        "    eval_metrics[kernel] = {'accuracy': accuracy, 'precision': precision, 'recall': recall}\n",
        "\n",
        "# Choose the model with the best accuracy\n",
        "best_kernel = max(eval_metrics, key=lambda k: eval_metrics[k]['accuracy'])\n",
        "best_model = make_pipeline(MaxAbsScaler(), SVC(kernel=best_kernel, random_state=42))\n",
        "best_model.fit(X_new_training_set, new_training_set['label_id'])\n",
        "\n",
        "# Report confusion matrix and evaluation metrics for the best model\n",
        "y_pred_best = best_model.predict(X_test)\n",
        "conf_matrix_best = confusion_matrix(y_test, y_pred_best)\n",
        "accuracy_best = accuracy_score(y_test, y_pred_best)\n",
        "precision_best = precision_score(y_test, y_pred_best)\n",
        "recall_best = recall_score(y_test, y_pred_best)\n",
        "\n",
        "print(f\"Best Model (Kernel: {best_kernel})\")\n",
        "print(\"Confusion Matrix:\")\n",
        "print(conf_matrix_best)\n",
        "print(\"\\nEvaluation Metrics:\")\n",
        "print(f\"Accuracy: {accuracy_best:.4f}\")\n",
        "print(f\"Precision: {precision_best:.4f}\")\n",
        "print(f\"Recall: {recall_best:.4f}\")"
      ],
      "metadata": {
        "colab": {
          "base_uri": "https://localhost:8080/"
        },
        "id": "sAcuY8I8LmCz",
        "outputId": "1d26af38-7d6b-4f9a-80a4-cd6e753511b2"
      },
      "execution_count": null,
      "outputs": [
        {
          "output_type": "stream",
          "name": "stdout",
          "text": [
            "Best Model (Kernel: sigmoid)\n",
            "Confusion Matrix:\n",
            "[[2430  710]\n",
            " [ 364 2755]]\n",
            "\n",
            "Evaluation Metrics:\n",
            "Accuracy: 0.8284\n",
            "Precision: 0.7951\n",
            "Recall: 0.8833\n"
          ]
        }
      ]
    },
    {
      "cell_type": "code",
      "source": [
        "from sklearn.metrics import confusion_matrix\n",
        "import seaborn as sns\n",
        "\n",
        "# ...\n",
        "\n",
        "# Report confusion matrix and evaluation metrics for the best model\n",
        "y_pred_best = best_model.predict(X_test)\n",
        "conf_matrix_best = confusion_matrix(y_test, y_pred_best)\n",
        "accuracy_best = accuracy_score(y_test, y_pred_best)\n",
        "precision_best = precision_score(y_test, y_pred_best)\n",
        "recall_best = recall_score(y_test, y_pred_best)\n",
        "\n",
        "print(f\"Best Model (Kernel: {best_kernel})\")\n",
        "print(\"\\nEvaluation Metrics:\")\n",
        "print(f\"Accuracy: {accuracy_best:.4f}\")\n",
        "print(f\"Precision: {precision_best:.4f}\")\n",
        "print(f\"Recall: {recall_best:.4f}\")\n",
        "\n",
        "# Display confusion matrix as a heatmap\n",
        "plt.figure(figsize=(8, 6))\n",
        "sns.heatmap(conf_matrix_best, annot=True, fmt='d', cmap='Blues', xticklabels=['Sad', 'Happy'], yticklabels=['Sad', 'Happy'])\n",
        "plt.title(\"Confusion Matrix\")\n",
        "plt.xlabel(\"Predicted Label\")\n",
        "plt.ylabel(\"True Label\")\n",
        "plt.show()"
      ],
      "metadata": {
        "colab": {
          "base_uri": "https://localhost:8080/",
          "height": 668
        },
        "id": "GGJFW0alPY5o",
        "outputId": "88c37a70-63c7-4215-923c-78447a584280"
      },
      "execution_count": null,
      "outputs": [
        {
          "output_type": "stream",
          "name": "stdout",
          "text": [
            "Best Model (Kernel: sigmoid)\n",
            "\n",
            "Evaluation Metrics:\n",
            "Accuracy: 0.8284\n",
            "Precision: 0.7951\n",
            "Recall: 0.8833\n"
          ]
        },
        {
          "output_type": "display_data",
          "data": {
            "text/plain": [
              "<Figure size 800x600 with 2 Axes>"
            ],
            "image/png": "[encoded data removed]"
          },
          "metadata": {}
        }
      ]
    },
    {
      "cell_type": "code",
      "source": [],
      "metadata": {
        "id": "8aYTjemkP6QR"
      },
      "execution_count": null,
      "outputs": []
    }
  ],
  "metadata": {
    "colab": {
      "provenance": [],
      "collapsed_sections": [
        "tFPyLOQMj5NB",
        "2I6PIhc-Pxez",
        "CXQ5Er561tCI",
        "mazP6k0wkV-e",
        "qtzVF4JbPxfh",
        "Q6uO8-VDrJvZ"
      ]
    },
    "kernelspec": {
      "display_name": "Python 3",
      "name": "python3"
    },
    "language_info": {
      "name": "python"
    }
  },
  "nbformat": 4,
  "nbformat_minor": 0
}